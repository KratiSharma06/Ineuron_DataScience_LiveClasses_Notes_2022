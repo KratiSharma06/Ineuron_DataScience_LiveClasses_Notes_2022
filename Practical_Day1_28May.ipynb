{
 "cells": [
  {
   "cell_type": "code",
   "execution_count": 1,
   "id": "7cd93e80",
   "metadata": {},
   "outputs": [],
   "source": [
    "l = [1,2,3,4,\"sudh\", \"kumar\", 45.56]"
   ]
  },
  {
   "cell_type": "code",
   "execution_count": 2,
   "id": "ed1bc12f",
   "metadata": {},
   "outputs": [
    {
     "name": "stdout",
     "output_type": "stream",
     "text": [
      "1\n",
      "2\n",
      "3\n",
      "4\n",
      "sudh\n",
      "kumar\n",
      "45.56\n"
     ]
    }
   ],
   "source": [
    "for i in l :\n",
    "    print(i)"
   ]
  },
  {
   "cell_type": "code",
   "execution_count": 3,
   "id": "2ae2fa01",
   "metadata": {},
   "outputs": [
    {
     "name": "stdout",
     "output_type": "stream",
     "text": [
      "[1, 2, 3, 4, 'sudh', 'kumar', 45.56]\n",
      "[1, 2, 3, 4, 'sudh', 'kumar', 45.56]\n",
      "[1, 2, 3, 4, 'sudh', 'kumar', 45.56]\n",
      "[1, 2, 3, 4, 'sudh', 'kumar', 45.56]\n",
      "[1, 2, 3, 4, 'sudh', 'kumar', 45.56]\n",
      "[1, 2, 3, 4, 'sudh', 'kumar', 45.56]\n",
      "[1, 2, 3, 4, 'sudh', 'kumar', 45.56]\n"
     ]
    }
   ],
   "source": [
    "for i in l :\n",
    "    print(l)"
   ]
  },
  {
   "cell_type": "code",
   "execution_count": 4,
   "id": "cfff495a",
   "metadata": {},
   "outputs": [
    {
     "ename": "IndentationError",
     "evalue": "expected an indented block (3640463963.py, line 1)",
     "output_type": "error",
     "traceback": [
      "\u001b[1;36m  Input \u001b[1;32mIn [4]\u001b[1;36m\u001b[0m\n\u001b[1;33m    for i in l :\u001b[0m\n\u001b[1;37m                ^\u001b[0m\n\u001b[1;31mIndentationError\u001b[0m\u001b[1;31m:\u001b[0m expected an indented block\n"
     ]
    }
   ],
   "source": [
    "for i in l :"
   ]
  },
  {
   "cell_type": "code",
   "execution_count": 5,
   "id": "e16c5218",
   "metadata": {},
   "outputs": [],
   "source": [
    "for i in l :\n",
    "    pass"
   ]
  },
  {
   "cell_type": "code",
   "execution_count": 6,
   "id": "d19d0bd6",
   "metadata": {},
   "outputs": [
    {
     "name": "stdout",
     "output_type": "stream",
     "text": [
      "s\n",
      "u\n",
      "d\n",
      "h\n"
     ]
    }
   ],
   "source": [
    "s = \"sudh\"\n",
    "for i in s :\n",
    "    print(i)"
   ]
  },
  {
   "cell_type": "code",
   "execution_count": 7,
   "id": "bfcdd7a6",
   "metadata": {},
   "outputs": [
    {
     "name": "stdout",
     "output_type": "stream",
     "text": [
      "1\n",
      "2\n",
      "3\n",
      "4\n",
      "sudh\n",
      "kumar\n",
      "45.56\n",
      "if for loop is going to complete itselelf it will execute else\n"
     ]
    }
   ],
   "source": [
    "for i in l:\n",
    "    print(i)\n",
    "else :\n",
    "    print(\"if for loop is going to complete itselelf it will execute else\")"
   ]
  },
  {
   "cell_type": "code",
   "execution_count": 8,
   "id": "b0ce2080",
   "metadata": {},
   "outputs": [
    {
     "data": {
      "text/plain": [
       "[1, 2, 3, 4, 'sudh', 'kumar', 45.56]"
      ]
     },
     "execution_count": 8,
     "metadata": {},
     "output_type": "execute_result"
    }
   ],
   "source": [
    "l"
   ]
  },
  {
   "cell_type": "code",
   "execution_count": 11,
   "id": "272e5061",
   "metadata": {},
   "outputs": [
    {
     "name": "stdout",
     "output_type": "stream",
     "text": [
      "1\n",
      "2\n",
      "3\n"
     ]
    }
   ],
   "source": [
    "for i in l :\n",
    "    if i == 4 :\n",
    "        break\n",
    "    print(i)\n",
    "else :\n",
    "    print(\"this will execute only if for is going to complete itself\")\n",
    "        "
   ]
  },
  {
   "cell_type": "code",
   "execution_count": 12,
   "id": "419d8de3",
   "metadata": {},
   "outputs": [
    {
     "name": "stdout",
     "output_type": "stream",
     "text": [
      "s\n",
      "u\n",
      "d\n",
      "h\n",
      "a\n"
     ]
    }
   ],
   "source": [
    "s = \"sudhanshu\"\n",
    "for i in s :\n",
    "    if i == 'n' :\n",
    "        break\n",
    "    print(i) \n",
    "else :\n",
    "    print(\"print string \", s)"
   ]
  },
  {
   "cell_type": "code",
   "execution_count": 13,
   "id": "6e0b1ca3",
   "metadata": {},
   "outputs": [
    {
     "name": "stdout",
     "output_type": "stream",
     "text": [
      "s\n",
      "u\n",
      "d\n",
      "h\n",
      "a\n",
      "n\n",
      "s\n",
      "h\n",
      "u\n",
      "print string  sudhanshu\n"
     ]
    }
   ],
   "source": [
    "s = \"sudhanshu\"\n",
    "for i in s :\n",
    "    if i == 'z' :\n",
    "        break\n",
    "    print(i) \n",
    "else :\n",
    "    print(\"print string \", s)"
   ]
  },
  {
   "cell_type": "code",
   "execution_count": 15,
   "id": "6f955cc2",
   "metadata": {},
   "outputs": [
    {
     "name": "stdout",
     "output_type": "stream",
     "text": [
      "4\n",
      "5\n",
      "6\n",
      "7\n",
      "8\n",
      "6\n",
      "sudh\n"
     ]
    }
   ],
   "source": [
    "t = (4,5,6,7,8,6,\"sudh\")\n",
    "for i in t :\n",
    "    print(i)"
   ]
  },
  {
   "cell_type": "code",
   "execution_count": 16,
   "id": "c90f7f2d",
   "metadata": {},
   "outputs": [],
   "source": [
    "b = {4,5,6,7,7,7,7,7,7,7,7,7,8,\"sudh\"}"
   ]
  },
  {
   "cell_type": "code",
   "execution_count": 17,
   "id": "03f89476",
   "metadata": {},
   "outputs": [
    {
     "data": {
      "text/plain": [
       "set"
      ]
     },
     "execution_count": 17,
     "metadata": {},
     "output_type": "execute_result"
    }
   ],
   "source": [
    "type(b)"
   ]
  },
  {
   "cell_type": "code",
   "execution_count": 18,
   "id": "2009e55a",
   "metadata": {},
   "outputs": [
    {
     "data": {
      "text/plain": [
       "{4, 5, 6, 7, 8, 'sudh'}"
      ]
     },
     "execution_count": 18,
     "metadata": {},
     "output_type": "execute_result"
    }
   ],
   "source": [
    "b"
   ]
  },
  {
   "cell_type": "code",
   "execution_count": 19,
   "id": "49c40899",
   "metadata": {},
   "outputs": [
    {
     "name": "stdout",
     "output_type": "stream",
     "text": [
      "4\n",
      "5\n",
      "6\n",
      "7\n",
      "8\n",
      "sudh\n"
     ]
    }
   ],
   "source": [
    "for i in b :\n",
    "    print(i)"
   ]
  },
  {
   "cell_type": "code",
   "execution_count": 21,
   "id": "12665467",
   "metadata": {},
   "outputs": [],
   "source": [
    "d = {'key1' : \"sudh\", 'contact' : \"sudhanshu@ineuron.ai\", \"position\": \"xyz\"}"
   ]
  },
  {
   "cell_type": "code",
   "execution_count": 22,
   "id": "4503d59c",
   "metadata": {},
   "outputs": [
    {
     "name": "stdout",
     "output_type": "stream",
     "text": [
      "key1\n",
      "contact\n",
      "position\n"
     ]
    }
   ],
   "source": [
    "for i in d :\n",
    "    print(i)"
   ]
  },
  {
   "cell_type": "code",
   "execution_count": 23,
   "id": "48d2783d",
   "metadata": {},
   "outputs": [
    {
     "data": {
      "text/plain": [
       "'sudh'"
      ]
     },
     "execution_count": 23,
     "metadata": {},
     "output_type": "execute_result"
    }
   ],
   "source": [
    "d['key1']"
   ]
  },
  {
   "cell_type": "code",
   "execution_count": 27,
   "id": "216a2def",
   "metadata": {},
   "outputs": [
    {
     "name": "stdout",
     "output_type": "stream",
     "text": [
      "key1 :  sudh\n",
      "contact :  sudhanshu@ineuron.ai\n",
      "position :  xyz\n"
     ]
    }
   ],
   "source": [
    "for i in d :\n",
    "    print(i,\": \" ,d[i])"
   ]
  },
  {
   "cell_type": "code",
   "execution_count": 28,
   "id": "011843ac",
   "metadata": {},
   "outputs": [
    {
     "name": "stdout",
     "output_type": "stream",
     "text": [
      "sudh\n",
      "sudhanshu@ineuron.ai\n",
      "xyz\n"
     ]
    }
   ],
   "source": [
    "for i in d :\n",
    "    print( d[i])"
   ]
  },
  {
   "cell_type": "markdown",
   "id": "4474b9f7",
   "metadata": {},
   "source": [
    "Range function"
   ]
  },
  {
   "cell_type": "code",
   "execution_count": 29,
   "id": "fe5c6142",
   "metadata": {},
   "outputs": [
    {
     "data": {
      "text/plain": [
       "range(0, 9)"
      ]
     },
     "execution_count": 29,
     "metadata": {},
     "output_type": "execute_result"
    }
   ],
   "source": [
    "range(9)"
   ]
  },
  {
   "cell_type": "code",
   "execution_count": 30,
   "id": "bf06133f",
   "metadata": {},
   "outputs": [
    {
     "data": {
      "text/plain": [
       "[0, 1, 2, 3, 4, 5, 6, 7, 8]"
      ]
     },
     "execution_count": 30,
     "metadata": {},
     "output_type": "execute_result"
    }
   ],
   "source": [
    "list(range(9))"
   ]
  },
  {
   "cell_type": "code",
   "execution_count": 31,
   "id": "9728087e",
   "metadata": {},
   "outputs": [
    {
     "name": "stdout",
     "output_type": "stream",
     "text": [
      "0\n",
      "1\n",
      "2\n",
      "3\n",
      "4\n",
      "5\n",
      "6\n",
      "7\n",
      "8\n"
     ]
    }
   ],
   "source": [
    "for i in range(9) :\n",
    "    print(i)"
   ]
  },
  {
   "cell_type": "code",
   "execution_count": 32,
   "id": "e9e96cb9",
   "metadata": {},
   "outputs": [
    {
     "data": {
      "text/plain": [
       "range(0, 9)"
      ]
     },
     "execution_count": 32,
     "metadata": {},
     "output_type": "execute_result"
    }
   ],
   "source": [
    "range(0,9)"
   ]
  },
  {
   "cell_type": "code",
   "execution_count": 33,
   "id": "208dd46e",
   "metadata": {},
   "outputs": [
    {
     "data": {
      "text/plain": [
       "[0, 1, 2, 3, 4, 5, 6, 7, 8]"
      ]
     },
     "execution_count": 33,
     "metadata": {},
     "output_type": "execute_result"
    }
   ],
   "source": [
    "list(range(0,9))"
   ]
  },
  {
   "cell_type": "code",
   "execution_count": 34,
   "id": "ae48bc6d",
   "metadata": {},
   "outputs": [
    {
     "data": {
      "text/plain": [
       "[0, 2, 4, 6, 8]"
      ]
     },
     "execution_count": 34,
     "metadata": {},
     "output_type": "execute_result"
    }
   ],
   "source": [
    "list(range(0,9, 2))"
   ]
  },
  {
   "cell_type": "code",
   "execution_count": 35,
   "id": "8eb89ace",
   "metadata": {},
   "outputs": [
    {
     "data": {
      "text/plain": [
       "[]"
      ]
     },
     "execution_count": 35,
     "metadata": {},
     "output_type": "execute_result"
    }
   ],
   "source": [
    "list(range(0,9, -1))"
   ]
  },
  {
   "cell_type": "markdown",
   "id": "5ec9f8f7",
   "metadata": {},
   "source": [
    "# Pattern matching question"
   ]
  },
  {
   "cell_type": "code",
   "execution_count": 36,
   "id": "e7ce10c6",
   "metadata": {},
   "outputs": [
    {
     "name": "stdout",
     "output_type": "stream",
     "text": [
      "sudh \n",
      "\n",
      "sudh sudh \n",
      "\n",
      "sudh sudh sudh \n",
      "\n",
      "sudh sudh sudh sudh \n",
      "\n"
     ]
    }
   ],
   "source": [
    "n = 4\n",
    "for i in range(4) :\n",
    "    for j in range(0, i +1) :\n",
    "        print(\"sudh\" , end =\" \")\n",
    "    print(\"\\n\")    "
   ]
  },
  {
   "cell_type": "code",
   "execution_count": 6,
   "id": "a149bbe8",
   "metadata": {},
   "outputs": [
    {
     "name": "stdout",
     "output_type": "stream",
     "text": [
      "          sudh \n",
      "     sudh sudh sudh \n",
      "sudh sudh sudh sudh sudh \n"
     ]
    }
   ],
   "source": [
    "n = 3\n",
    "for i in range(n) :\n",
    "    for j in range(i, n-1) :\n",
    "        print(\" \" * len(\"sudh\"), end =\" \")\n",
    "    for j in range(i+1) :\n",
    "        print(\"sudh\" , end =\" \")\n",
    "    for j in range(i) :\n",
    "        print(\"sudh\" , end =\" \")\n",
    "    print()   "
   ]
  },
  {
   "cell_type": "code",
   "execution_count": 10,
   "id": "45110404",
   "metadata": {},
   "outputs": [
    {
     "name": "stdout",
     "output_type": "stream",
     "text": [
      "      sudh \n",
      "    sudh sudh \n",
      "  sudh sudh sudh \n",
      "sudh sudh sudh sudh \n"
     ]
    }
   ],
   "source": [
    "n = 4\n",
    "for i in range(n) :\n",
    "    for j in range(i, n-1) :\n",
    "        print(\"  \" , end =\"\")\n",
    "    for j in range(i+1) :\n",
    "        print(\"sudh\" , end =\" \")\n",
    "    print()  "
   ]
  },
  {
   "cell_type": "code",
   "execution_count": 47,
   "id": "d50ec9ee",
   "metadata": {},
   "outputs": [
    {
     "data": {
      "text/plain": [
       "[]"
      ]
     },
     "execution_count": 47,
     "metadata": {},
     "output_type": "execute_result"
    }
   ],
   "source": [
    "list(range(0))"
   ]
  },
  {
   "cell_type": "code",
   "execution_count": 49,
   "id": "749f185b",
   "metadata": {},
   "outputs": [],
   "source": [
    "t = (3, 23, 45, 67, 2, 4, 5,6)"
   ]
  },
  {
   "cell_type": "code",
   "execution_count": 52,
   "id": "957f8abc",
   "metadata": {},
   "outputs": [
    {
     "data": {
      "text/plain": [
       "8"
      ]
     },
     "execution_count": 52,
     "metadata": {},
     "output_type": "execute_result"
    }
   ],
   "source": [
    "len(t)"
   ]
  },
  {
   "cell_type": "code",
   "execution_count": 53,
   "id": "18b458db",
   "metadata": {},
   "outputs": [
    {
     "data": {
      "text/plain": [
       "[0, 1, 2, 3, 4, 5, 6, 7]"
      ]
     },
     "execution_count": 53,
     "metadata": {},
     "output_type": "execute_result"
    }
   ],
   "source": [
    "list(range(len(t)))"
   ]
  },
  {
   "cell_type": "markdown",
   "id": "969d332c",
   "metadata": {},
   "source": [
    "# Q print tuple indexes as well as indexes"
   ]
  },
  {
   "cell_type": "code",
   "execution_count": 51,
   "id": "5e579d41",
   "metadata": {},
   "outputs": [
    {
     "name": "stdout",
     "output_type": "stream",
     "text": [
      "0 :  3\n",
      "1 :  23\n",
      "2 :  45\n",
      "3 :  67\n",
      "4 :  2\n",
      "5 :  4\n",
      "6 :  5\n",
      "7 :  6\n"
     ]
    }
   ],
   "source": [
    "for i in range(len(t)) :\n",
    "    print(i,\": \" ,t[i])"
   ]
  },
  {
   "cell_type": "code",
   "execution_count": 15,
   "id": "d5998de0",
   "metadata": {},
   "outputs": [],
   "source": [
    "s = \"ineuron\""
   ]
  },
  {
   "cell_type": "code",
   "execution_count": 59,
   "id": "91614df1",
   "metadata": {},
   "outputs": [
    {
     "name": "stdout",
     "output_type": "stream",
     "text": [
      "0 :  i\n",
      "1 :  n\n",
      "2 :  e\n",
      "3 :  u\n",
      "4 :  r\n",
      "5 :  o\n",
      "6 :  n\n"
     ]
    }
   ],
   "source": [
    "for i in range(len(s)) :\n",
    "    print(i,\": \" ,s[i])"
   ]
  },
  {
   "cell_type": "markdown",
   "id": "fa090597",
   "metadata": {},
   "source": [
    "# Print element and index in reverse order"
   ]
  },
  {
   "cell_type": "code",
   "execution_count": 60,
   "id": "a69445c3",
   "metadata": {},
   "outputs": [
    {
     "name": "stdout",
     "output_type": "stream",
     "text": [
      "6 :  n\n",
      "5 :  o\n",
      "4 :  r\n",
      "3 :  u\n",
      "2 :  e\n",
      "1 :  n\n",
      "0 :  i\n"
     ]
    }
   ],
   "source": [
    "for i in reversed(range(len(s))) :\n",
    "    print(i,\": \" ,s[i])"
   ]
  },
  {
   "cell_type": "code",
   "execution_count": 61,
   "id": "fa89133c",
   "metadata": {},
   "outputs": [
    {
     "data": {
      "text/plain": [
       "'ineuron'"
      ]
     },
     "execution_count": 61,
     "metadata": {},
     "output_type": "execute_result"
    }
   ],
   "source": [
    "s"
   ]
  },
  {
   "cell_type": "code",
   "execution_count": 62,
   "id": "f1500a63",
   "metadata": {},
   "outputs": [
    {
     "data": {
      "text/plain": [
       "range(0, 7)"
      ]
     },
     "execution_count": 62,
     "metadata": {},
     "output_type": "execute_result"
    }
   ],
   "source": [
    "range(len(s))"
   ]
  },
  {
   "cell_type": "code",
   "execution_count": 63,
   "id": "e07d71d9",
   "metadata": {},
   "outputs": [
    {
     "data": {
      "text/plain": [
       "[0, 1, 2, 3, 4, 5, 6]"
      ]
     },
     "execution_count": 63,
     "metadata": {},
     "output_type": "execute_result"
    }
   ],
   "source": [
    "list(range(len(s)))"
   ]
  },
  {
   "cell_type": "code",
   "execution_count": 64,
   "id": "fd706c69",
   "metadata": {},
   "outputs": [
    {
     "data": {
      "text/plain": [
       "[7, 6, 5, 4, 3, 2, 1]"
      ]
     },
     "execution_count": 64,
     "metadata": {},
     "output_type": "execute_result"
    }
   ],
   "source": [
    "list(range(len(s), 0, -1))"
   ]
  },
  {
   "cell_type": "code",
   "execution_count": 65,
   "id": "8b37770e",
   "metadata": {},
   "outputs": [
    {
     "data": {
      "text/plain": [
       "[7, 6, 5, 4, 3, 2, 1, 0]"
      ]
     },
     "execution_count": 65,
     "metadata": {},
     "output_type": "execute_result"
    }
   ],
   "source": [
    "list(range(len(s), -1, -1))"
   ]
  },
  {
   "cell_type": "code",
   "execution_count": 66,
   "id": "9e3fd1c2",
   "metadata": {},
   "outputs": [
    {
     "data": {
      "text/plain": [
       "[6, 5, 4, 3, 2, 1, 0]"
      ]
     },
     "execution_count": 66,
     "metadata": {},
     "output_type": "execute_result"
    }
   ],
   "source": [
    "list(range(len(s)-1, -1, -1))"
   ]
  },
  {
   "cell_type": "code",
   "execution_count": 69,
   "id": "28ee4d9e",
   "metadata": {},
   "outputs": [
    {
     "name": "stdout",
     "output_type": "stream",
     "text": [
      "6 :  n\n",
      "5 :  o\n",
      "4 :  r\n",
      "3 :  u\n",
      "2 :  e\n",
      "1 :  n\n",
      "0 :  i\n"
     ]
    }
   ],
   "source": [
    "for i in range(len(s)-1, -1, -1) :\n",
    "    print(i,\": \" ,s[i])"
   ]
  },
  {
   "cell_type": "code",
   "execution_count": 70,
   "id": "3b2f2048",
   "metadata": {},
   "outputs": [
    {
     "data": {
      "text/plain": [
       "{'key1': 'sudh', 'contact': 'sudhanshu@ineuron.ai', 'position': 'xyz'}"
      ]
     },
     "execution_count": 70,
     "metadata": {},
     "output_type": "execute_result"
    }
   ],
   "source": [
    "d"
   ]
  },
  {
   "cell_type": "markdown",
   "id": "6588d0e2",
   "metadata": {},
   "source": [
    "# Q try to print key and value all the elements in dictionary"
   ]
  },
  {
   "cell_type": "code",
   "execution_count": 11,
   "id": "ac01bd4b",
   "metadata": {},
   "outputs": [
    {
     "ename": "NameError",
     "evalue": "name 'd' is not defined",
     "output_type": "error",
     "traceback": [
      "\u001b[1;31m---------------------------------------------------------------------------\u001b[0m",
      "\u001b[1;31mNameError\u001b[0m                                 Traceback (most recent call last)",
      "Input \u001b[1;32mIn [11]\u001b[0m, in \u001b[0;36m<cell line: 1>\u001b[1;34m()\u001b[0m\n\u001b[1;32m----> 1\u001b[0m \u001b[43md\u001b[49m\u001b[38;5;241m.\u001b[39mitems()\n",
      "\u001b[1;31mNameError\u001b[0m: name 'd' is not defined"
     ]
    }
   ],
   "source": [
    "d.items()"
   ]
  },
  {
   "cell_type": "code",
   "execution_count": 72,
   "id": "d1094acf",
   "metadata": {},
   "outputs": [
    {
     "name": "stdout",
     "output_type": "stream",
     "text": [
      "('key1', 'sudh')\n",
      "('contact', 'sudhanshu@ineuron.ai')\n",
      "('position', 'xyz')\n"
     ]
    }
   ],
   "source": [
    "for i in d.items() :\n",
    "    print(i)"
   ]
  },
  {
   "cell_type": "code",
   "execution_count": 73,
   "id": "902062fa",
   "metadata": {},
   "outputs": [
    {
     "name": "stdout",
     "output_type": "stream",
     "text": [
      "('key1', 'sudh') <class 'tuple'>\n",
      "('contact', 'sudhanshu@ineuron.ai') <class 'tuple'>\n",
      "('position', 'xyz') <class 'tuple'>\n"
     ]
    }
   ],
   "source": [
    "for i in d.items() :\n",
    "    print(i, type(i))"
   ]
  },
  {
   "cell_type": "code",
   "execution_count": 74,
   "id": "e6dac41c",
   "metadata": {},
   "outputs": [
    {
     "name": "stdout",
     "output_type": "stream",
     "text": [
      "('key1', 'sudh') <class 'tuple'> <class 'str'>\n",
      "('contact', 'sudhanshu@ineuron.ai') <class 'tuple'> <class 'str'>\n",
      "('position', 'xyz') <class 'tuple'> <class 'str'>\n"
     ]
    }
   ],
   "source": [
    "for i in d.items() :\n",
    "    print(i, type(i), type(i[1]))"
   ]
  },
  {
   "cell_type": "code",
   "execution_count": 84,
   "id": "addb700d",
   "metadata": {},
   "outputs": [],
   "source": [
    "l= [\"sudh\" , \"kumar\", 32345445, \"sudhandhu@ineuron.ai\",345,34345353]\n"
   ]
  },
  {
   "cell_type": "markdown",
   "id": "b858583d",
   "metadata": {},
   "source": [
    "# Q extract all the numeric values of this list or create a new list where all the numbers are there"
   ]
  },
  {
   "cell_type": "code",
   "execution_count": 85,
   "id": "7449a84b",
   "metadata": {},
   "outputs": [],
   "source": [
    "l1 = []\n",
    "for i in l :\n",
    "    if type(i) == int :\n",
    "        l1.append(i)"
   ]
  },
  {
   "cell_type": "code",
   "execution_count": 89,
   "id": "6643f4bb",
   "metadata": {},
   "outputs": [
    {
     "data": {
      "text/plain": [
       "[32345445, 345, 34345353]"
      ]
     },
     "execution_count": 89,
     "metadata": {},
     "output_type": "execute_result"
    }
   ],
   "source": [
    "l1"
   ]
  },
  {
   "cell_type": "code",
   "execution_count": 91,
   "id": "84e4ab92",
   "metadata": {},
   "outputs": [],
   "source": [
    "d = {1 : 333435 , \"name\" : \"sudh\", \"emsil_id\" : \"sudhsnshu@ineuron,ai\", 234 : \"fsfdddfgf\", 43:  \"ygfyjg\"}"
   ]
  },
  {
   "cell_type": "markdown",
   "id": "bd81686c",
   "metadata": {},
   "source": [
    "# Q expecting a key value pair where key must be a numeric one"
   ]
  },
  {
   "cell_type": "code",
   "execution_count": 92,
   "id": "12269eb0",
   "metadata": {},
   "outputs": [
    {
     "name": "stdout",
     "output_type": "stream",
     "text": [
      "1\n",
      "name\n",
      "emsil_id\n",
      "234\n",
      "43\n"
     ]
    }
   ],
   "source": [
    "\n",
    "for i in d :\n",
    "    print(i)"
   ]
  },
  {
   "cell_type": "code",
   "execution_count": 95,
   "id": "efc758f8",
   "metadata": {},
   "outputs": [
    {
     "name": "stdout",
     "output_type": "stream",
     "text": [
      "1 : 333435\n",
      "234 : fsfdddfgf\n",
      "43 : ygfyjg\n"
     ]
    }
   ],
   "source": [
    "for i in d :\n",
    "     if type(i) == int :\n",
    "        print(i, \":\", d[i])"
   ]
  },
  {
   "cell_type": "code",
   "execution_count": 96,
   "id": "1e49a894",
   "metadata": {},
   "outputs": [],
   "source": [
    "s = \"aaaabbccd\""
   ]
  },
  {
   "cell_type": "markdown",
   "id": "1a1ed806",
   "metadata": {},
   "source": [
    "# Q print occurence of every character inside ethis string\n",
    "output:\n",
    "    a : 4\n",
    "    b : 2\n",
    "    c : 2\n",
    "    d :1"
   ]
  },
  {
   "cell_type": "code",
   "execution_count": 102,
   "id": "3abf7dea",
   "metadata": {},
   "outputs": [
    {
     "data": {
      "text/plain": [
       "{'a', 'b', 'c', 'd'}"
      ]
     },
     "execution_count": 102,
     "metadata": {},
     "output_type": "execute_result"
    }
   ],
   "source": [
    "set(s)"
   ]
  },
  {
   "cell_type": "code",
   "execution_count": 103,
   "id": "2c57f3cc",
   "metadata": {},
   "outputs": [
    {
     "name": "stdout",
     "output_type": "stream",
     "text": [
      "d : 1\n",
      "c : 2\n",
      "a : 4\n",
      "b : 2\n"
     ]
    }
   ],
   "source": [
    "for i in set(s):\n",
    "    print(i, \":\" , s.count(i))"
   ]
  },
  {
   "cell_type": "code",
   "execution_count": 104,
   "id": "61f11456",
   "metadata": {},
   "outputs": [
    {
     "data": {
      "text/plain": [
       "4"
      ]
     },
     "execution_count": 104,
     "metadata": {},
     "output_type": "execute_result"
    }
   ],
   "source": [
    "s.count('a')"
   ]
  },
  {
   "cell_type": "markdown",
   "id": "9e248284",
   "metadata": {},
   "source": [
    "# Q individual integer inside this i"
   ]
  },
  {
   "cell_type": "code",
   "execution_count": 105,
   "id": "07e0de72",
   "metadata": {},
   "outputs": [
    {
     "ename": "TypeError",
     "evalue": "'int' object is not iterable",
     "output_type": "error",
     "traceback": [
      "\u001b[1;31m---------------------------------------------------------------------------\u001b[0m",
      "\u001b[1;31mTypeError\u001b[0m                                 Traceback (most recent call last)",
      "Input \u001b[1;32mIn [105]\u001b[0m, in \u001b[0;36m<cell line: 2>\u001b[1;34m()\u001b[0m\n\u001b[0;32m      1\u001b[0m i \u001b[38;5;241m=\u001b[39m \u001b[38;5;241m345346546466435\u001b[39m\n\u001b[1;32m----> 2\u001b[0m \u001b[38;5;28;01mfor\u001b[39;00m j \u001b[38;5;129;01min\u001b[39;00m i:\n\u001b[0;32m      3\u001b[0m     \u001b[38;5;28mprint\u001b[39m(j)\n",
      "\u001b[1;31mTypeError\u001b[0m: 'int' object is not iterable"
     ]
    }
   ],
   "source": [
    "i = 345346546466435\n",
    "for j in i:\n",
    "    print(j)"
   ]
  },
  {
   "cell_type": "code",
   "execution_count": 106,
   "id": "b03bb093",
   "metadata": {},
   "outputs": [
    {
     "data": {
      "text/plain": [
       "'345346546466435'"
      ]
     },
     "execution_count": 106,
     "metadata": {},
     "output_type": "execute_result"
    }
   ],
   "source": [
    "str(i)"
   ]
  },
  {
   "cell_type": "code",
   "execution_count": 107,
   "id": "189d438e",
   "metadata": {},
   "outputs": [
    {
     "name": "stdout",
     "output_type": "stream",
     "text": [
      "3\n",
      "4\n",
      "5\n",
      "3\n",
      "4\n",
      "6\n",
      "5\n",
      "4\n",
      "6\n",
      "4\n",
      "6\n",
      "6\n",
      "4\n",
      "3\n",
      "5\n"
     ]
    }
   ],
   "source": [
    "i = 345346546466435\n",
    "for j in str(i):\n",
    "    print(j)"
   ]
  },
  {
   "cell_type": "code",
   "execution_count": 108,
   "id": "19a800ee",
   "metadata": {},
   "outputs": [
    {
     "name": "stdout",
     "output_type": "stream",
     "text": [
      "3 <class 'int'>\n",
      "4 <class 'int'>\n",
      "5 <class 'int'>\n",
      "3 <class 'int'>\n",
      "4 <class 'int'>\n",
      "6 <class 'int'>\n",
      "5 <class 'int'>\n",
      "4 <class 'int'>\n",
      "6 <class 'int'>\n",
      "4 <class 'int'>\n",
      "6 <class 'int'>\n",
      "6 <class 'int'>\n",
      "4 <class 'int'>\n",
      "3 <class 'int'>\n",
      "5 <class 'int'>\n"
     ]
    }
   ],
   "source": [
    "i = 345346546466435\n",
    "for j in str(i):\n",
    "    print(j, type(int(j)))"
   ]
  },
  {
   "cell_type": "code",
   "execution_count": 109,
   "id": "e1d5fa7b",
   "metadata": {},
   "outputs": [
    {
     "data": {
      "text/plain": [
       "'345346546466435'"
      ]
     },
     "execution_count": 109,
     "metadata": {},
     "output_type": "execute_result"
    }
   ],
   "source": [
    "str(i)"
   ]
  },
  {
   "cell_type": "code",
   "execution_count": 110,
   "id": "1ab84713",
   "metadata": {},
   "outputs": [],
   "source": [
    "t = (\"sudh\" , \"kumar\", [1,2,3,4,5], (3,4,5,6), {\"key\": \"sudh\", \"key2\" : \"kumar\"})"
   ]
  },
  {
   "cell_type": "markdown",
   "id": "b51c3efc",
   "metadata": {},
   "source": [
    "# Q extract 3 in 3"
   ]
  },
  {
   "cell_type": "code",
   "execution_count": 113,
   "id": "797da72c",
   "metadata": {},
   "outputs": [
    {
     "name": "stdout",
     "output_type": "stream",
     "text": [
      "3\n",
      "3\n"
     ]
    }
   ],
   "source": [
    "for i in t:\n",
    "    if type(i) == list or type(i) == tuple :\n",
    "        for j in i:\n",
    "            if j == 3 :\n",
    "                print(j)\n",
    "   "
   ]
  },
  {
   "cell_type": "markdown",
   "id": "9e5f6b12",
   "metadata": {},
   "source": [
    "# extract 3 in key of  dict also"
   ]
  },
  {
   "cell_type": "code",
   "execution_count": 17,
   "id": "52745186",
   "metadata": {},
   "outputs": [],
   "source": [
    "t = (\"sudh\" , \"kumar\", [1,2,3,4,5], (3,4,5,6), {3: \"sudh\", \"key2\" : \"kumar\"})"
   ]
  },
  {
   "cell_type": "code",
   "execution_count": 21,
   "id": "e2e6ea38",
   "metadata": {},
   "outputs": [
    {
     "name": "stdout",
     "output_type": "stream",
     "text": [
      "3\n",
      "3\n",
      "3\n"
     ]
    }
   ],
   "source": [
    "for i in t:\n",
    "    if type(i) == list or type(i) == tuple or type(i) == dict :\n",
    "        for j in i:\n",
    "            if j == 3 :\n",
    "                print(j)"
   ]
  },
  {
   "cell_type": "code",
   "execution_count": 22,
   "id": "4c9a4dc6",
   "metadata": {},
   "outputs": [
    {
     "name": "stdout",
     "output_type": "stream",
     "text": [
      "3\n",
      "3\n",
      "3\n",
      "{3: 3, 'key2': 'kumar'}\n"
     ]
    }
   ],
   "source": [
    "for i in t:\n",
    "    if type(i) == list or type(i) == tuple or type(i) == dict :\n",
    "        for j in i:\n",
    "            if j == 3 :\n",
    "                print(j)\n",
    "    if type(i) == dict:\n",
    "        print(i)"
   ]
  },
  {
   "cell_type": "markdown",
   "id": "58d924d5",
   "metadata": {},
   "source": [
    "# extract 3 in key and value of  dict also"
   ]
  },
  {
   "cell_type": "code",
   "execution_count": 19,
   "id": "63bfc2a5",
   "metadata": {},
   "outputs": [],
   "source": [
    "t = (\"sudh\" , \"kumar\", [1,2,3,4,5], (3,4,5,6), {3: 3, \"key2\" : \"kumar\"})"
   ]
  },
  {
   "cell_type": "code",
   "execution_count": 23,
   "id": "e9398b76",
   "metadata": {},
   "outputs": [
    {
     "name": "stdout",
     "output_type": "stream",
     "text": [
      "3\n",
      "3\n",
      "3\n",
      "{3: 3, 'key2': 'kumar'}\n"
     ]
    }
   ],
   "source": [
    "for i in t:\n",
    "    if type(i) == list or type(i) == tuple or type(i) == dict :\n",
    "        for j in i:\n",
    "            if j == 3 :\n",
    "                print(j)\n",
    "    if type(i) == dict:\n",
    "        print(i)"
   ]
  },
  {
   "cell_type": "code",
   "execution_count": 20,
   "id": "d95fb5f1",
   "metadata": {},
   "outputs": [
    {
     "name": "stdout",
     "output_type": "stream",
     "text": [
      "3\n",
      "3\n",
      "3\n",
      "3\n"
     ]
    }
   ],
   "source": [
    "for i in t:\n",
    "    if type(i) == list or type(i) == tuple :\n",
    "        for j in i:\n",
    "            if j == 3 :\n",
    "                print(j)\n",
    "    if type(i) == dict:\n",
    "        for k,v in i.items():\n",
    "            if k == 3 or v ==3 :\n",
    "                print(k)\n",
    "                print(v)"
   ]
  },
  {
   "cell_type": "code",
   "execution_count": 125,
   "id": "e107d741",
   "metadata": {},
   "outputs": [],
   "source": [
    "d = {4:5, \"key1\":\"sudh\", \"key2\":\"kumar\"}"
   ]
  },
  {
   "cell_type": "code",
   "execution_count": 127,
   "id": "e2ea92dc",
   "metadata": {},
   "outputs": [
    {
     "name": "stdout",
     "output_type": "stream",
     "text": [
      "4\n",
      "key1\n",
      "key2\n"
     ]
    }
   ],
   "source": [
    "for i,j in d.items():\n",
    "    print(i)"
   ]
  },
  {
   "cell_type": "code",
   "execution_count": 128,
   "id": "6d2cacba",
   "metadata": {},
   "outputs": [
    {
     "data": {
      "text/plain": [
       "dict_items([(4, 5), ('key1', 'sudh'), ('key2', 'kumar')])"
      ]
     },
     "execution_count": 128,
     "metadata": {},
     "output_type": "execute_result"
    }
   ],
   "source": [
    "d.items()"
   ]
  },
  {
   "cell_type": "code",
   "execution_count": 129,
   "id": "4f402346",
   "metadata": {},
   "outputs": [],
   "source": [
    "a=10\n",
    "b=20\n",
    "c=30"
   ]
  },
  {
   "cell_type": "code",
   "execution_count": 130,
   "id": "3c74d9e4",
   "metadata": {},
   "outputs": [],
   "source": [
    "a,b,c = 10,20,30"
   ]
  }
 ],
 "metadata": {
  "kernelspec": {
   "display_name": "Python 3 (ipykernel)",
   "language": "python",
   "name": "python3"
  },
  "language_info": {
   "codemirror_mode": {
    "name": "ipython",
    "version": 3
   },
   "file_extension": ".py",
   "mimetype": "text/x-python",
   "name": "python",
   "nbconvert_exporter": "python",
   "pygments_lexer": "ipython3",
   "version": "3.9.12"
  }
 },
 "nbformat": 4,
 "nbformat_minor": 5
}
