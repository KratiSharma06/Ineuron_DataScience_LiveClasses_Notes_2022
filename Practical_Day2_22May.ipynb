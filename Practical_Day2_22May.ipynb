{
 "cells": [
  {
   "cell_type": "markdown",
   "id": "51b2cafb",
   "metadata": {},
   "source": [
    "Topic  Control-Flow Statements"
   ]
  },
  {
   "cell_type": "markdown",
   "id": "90db6d8e",
   "metadata": {},
   "source": [
    "1. If statements"
   ]
  },
  {
   "cell_type": "code",
   "execution_count": null,
   "id": "c9905982",
   "metadata": {},
   "outputs": [],
   "source": [
    "a = 10\n",
    "if a == 10"
   ]
  },
  {
   "cell_type": "markdown",
   "id": "ee70af31",
   "metadata": {},
   "source": [
    "syntatical error because we need to place everthing in a manner in python like in ex: print statement is not in right manner"
   ]
  },
  {
   "cell_type": "code",
   "execution_count": null,
   "id": "a0e8aeb1",
   "metadata": {},
   "outputs": [],
   "source": [
    "a = 10\n",
    "if a == 10 :\n",
    "print(\"this is my first condition\")"
   ]
  },
  {
   "cell_type": "code",
   "execution_count": null,
   "id": "129494b7",
   "metadata": {},
   "outputs": [],
   "source": [
    "a = 10\n",
    "if a == 10 :\n",
    "    print(\"this is my first condition\")"
   ]
  },
  {
   "cell_type": "code",
   "execution_count": null,
   "id": "a3954ff4",
   "metadata": {},
   "outputs": [],
   "source": [
    "a = 10\n",
    "if a == 11 :\n",
    "    print(\"this is my first condition\")"
   ]
  },
  {
   "cell_type": "code",
   "execution_count": null,
   "id": "cac7b6c8",
   "metadata": {
    "scrolled": true
   },
   "outputs": [],
   "source": [
    "a = 10\n",
    "if a > 5 :\n",
    "   "
   ]
  },
  {
   "cell_type": "code",
   "execution_count": null,
   "id": "6fca676c",
   "metadata": {},
   "outputs": [],
   "source": [
    " a = 10\n",
    "if a > 5 : \n",
    "    pass"
   ]
  },
  {
   "cell_type": "code",
   "execution_count": null,
   "id": "29938ead",
   "metadata": {},
   "outputs": [],
   "source": [
    " a = 10\n",
    "if a > 8 : \n",
    "    print(\"print this if condition is true\")"
   ]
  },
  {
   "cell_type": "code",
   "execution_count": null,
   "id": "0dee29cd",
   "metadata": {},
   "outputs": [],
   "source": [
    "a = 10\n",
    "if a < 8 : \n",
    "    print(\"print this if condition is true\")"
   ]
  },
  {
   "cell_type": "code",
   "execution_count": null,
   "id": "f6ef868e",
   "metadata": {},
   "outputs": [],
   "source": [
    "a = 10\n",
    "if a != 11:\n",
    "    print(\"my condition is false\")\n",
    "else :\n",
    "    print(\"print this\")"
   ]
  },
  {
   "cell_type": "code",
   "execution_count": null,
   "id": "8dbf8741",
   "metadata": {},
   "outputs": [],
   "source": [
    "a = 10\n",
    "if a == 11:\n",
    "    print(\"my condition is false\")\n",
    "else :\n",
    "    print(\"print this\")"
   ]
  },
  {
   "cell_type": "markdown",
   "id": "a38404f2",
   "metadata": {},
   "source": [
    "for multiple conditions --elif"
   ]
  },
  {
   "cell_type": "code",
   "execution_count": null,
   "id": "e2601f70",
   "metadata": {},
   "outputs": [],
   "source": [
    "a = 10\n",
    "if a == 12 :\n",
    "    print(\"here we are trying to compare 10 with 12\")\n",
    "elif a ==11:\n",
    "        print(\"here we are trying to compare 10 with 11\")\n",
    "else :\n",
    "        print(\"if all the blocks will fail then do this\")"
   ]
  },
  {
   "cell_type": "code",
   "execution_count": null,
   "id": "06da6b59",
   "metadata": {},
   "outputs": [],
   "source": [
    "a = 10\n",
    "if a == 12 :\n",
    "    print(\"here we are trying to compare 10 with 12\")\n",
    "elif a ==10:\n",
    "        print(\"here we are trying to compare 10 with 11\")\n",
    "else :\n",
    "        print(\"if all the blocks will fail then do this\")"
   ]
  },
  {
   "cell_type": "code",
   "execution_count": null,
   "id": "7d5eee81",
   "metadata": {},
   "outputs": [],
   "source": [
    "price = 500\n",
    "\n",
    "if price  > 500 :\n",
    "    print(\"may be i wont be able to nuy a jacket\")\n",
    "elif price < 500 :\n",
    "    print(\"i will be able to nuy a jacket\")"
   ]
  },
  {
   "cell_type": "code",
   "execution_count": null,
   "id": "45c14a22",
   "metadata": {},
   "outputs": [],
   "source": [
    "price = 500\n",
    "\n",
    "if price  > 500 :\n",
    "    print(\"may be i wont be able to nuy a jacket\")\n",
    "elif price <= 500 :\n",
    "    print(\"i will be able to nuy a jacket\")"
   ]
  },
  {
   "cell_type": "code",
   "execution_count": null,
   "id": "825d57ca",
   "metadata": {},
   "outputs": [],
   "source": [
    "price = 500\n",
    "\n",
    "if price  > 500 :\n",
    "    print(\"may be i wont be able to nuy a jacket\")\n",
    "elif price < 500 :\n",
    "    print(\"i will be able to nuy a jacket\")\n",
    "else price == 500 ;\n",
    "    print(\"idont know\")"
   ]
  },
  {
   "cell_type": "code",
   "execution_count": null,
   "id": "df90160a",
   "metadata": {},
   "outputs": [],
   "source": [
    "price = 500\n",
    "\n",
    "if price  > 500 :\n",
    "    print(\"may be i wont be able to nuy a jacket\")\n",
    "elif price < 500 :\n",
    "    print(\"i will be able to nuy a jacket\")\n",
    "elif price == 500 :\n",
    "    print(\"for sure i will be able to nuy a jacket\")\n",
    "else :\n",
    "    print(\"idont know\")"
   ]
  },
  {
   "cell_type": "code",
   "execution_count": null,
   "id": "86870a42",
   "metadata": {},
   "outputs": [],
   "source": [
    "price >500"
   ]
  },
  {
   "cell_type": "code",
   "execution_count": null,
   "id": "ba225ca5",
   "metadata": {},
   "outputs": [],
   "source": [
    "price < 500"
   ]
  },
  {
   "cell_type": "code",
   "execution_count": null,
   "id": "ee2a5f5a",
   "metadata": {},
   "outputs": [],
   "source": [
    "price == 500"
   ]
  },
  {
   "cell_type": "code",
   "execution_count": null,
   "id": "b530a50f",
   "metadata": {},
   "outputs": [],
   "source": [
    "l = [1,2,3,4,5,6]\n",
    "2 in l\n"
   ]
  },
  {
   "cell_type": "code",
   "execution_count": null,
   "id": "11d10361",
   "metadata": {},
   "outputs": [],
   "source": [
    "if 2 in l :\n",
    "    print(\"try to perform a task\")\n",
    "else :\n",
    "     print(\"do not perform a task\")"
   ]
  },
  {
   "cell_type": "code",
   "execution_count": null,
   "id": "dff0a534",
   "metadata": {},
   "outputs": [],
   "source": [
    "if 60 in l :\n",
    "    print(\"try to perform a task\")\n",
    "else :\n",
    "     print(\"do not perform a task\")"
   ]
  },
  {
   "cell_type": "code",
   "execution_count": null,
   "id": "0705dcd1",
   "metadata": {},
   "outputs": [],
   "source": [
    "60 in l"
   ]
  },
  {
   "cell_type": "code",
   "execution_count": null,
   "id": "e9c508aa",
   "metadata": {},
   "outputs": [],
   "source": [
    "l"
   ]
  },
  {
   "cell_type": "code",
   "execution_count": null,
   "id": "edcd3b08",
   "metadata": {},
   "outputs": [],
   "source": [
    "if 1 in l :\n",
    "    print(\"try to do a addition\")\n",
    "elif 2 in l :\n",
    "    print(\"try to do subtraction\")    \n",
    "elif 3 in l :\n",
    "    print(\"try to do multition\")"
   ]
  },
  {
   "cell_type": "code",
   "execution_count": null,
   "id": "084416b4",
   "metadata": {},
   "outputs": [],
   "source": [
    "if 10 in l :\n",
    "    print(\"try to do a addition\")\n",
    "elif 2 in l :\n",
    "    print(\"try to do subtraction\")    \n",
    "elif 3 in l :\n",
    "    print(\"try to do multition\")"
   ]
  },
  {
   "cell_type": "code",
   "execution_count": null,
   "id": "5f19987f",
   "metadata": {},
   "outputs": [],
   "source": [
    "if 10 in l :\n",
    "    print(\"try to do a addition\")\n",
    "elif 2 in l :\n",
    "    print(\"try to do subtraction\")    \n",
    "elif 3 in l :\n",
    "    print(\"try to do multition\")\n",
    "if 4 in l :\n",
    "    print(\"this is new statement\")"
   ]
  },
  {
   "cell_type": "code",
   "execution_count": 1,
   "id": "aa2efeab",
   "metadata": {},
   "outputs": [],
   "source": [
    "a = 400"
   ]
  },
  {
   "cell_type": "code",
   "execution_count": 4,
   "id": "57292759",
   "metadata": {},
   "outputs": [
    {
     "name": "stdout",
     "output_type": "stream",
     "text": [
      "fas\n"
     ]
    }
   ],
   "source": [
    "b = input()"
   ]
  },
  {
   "cell_type": "code",
   "execution_count": 5,
   "id": "078ec69e",
   "metadata": {},
   "outputs": [
    {
     "data": {
      "text/plain": [
       "'fas'"
      ]
     },
     "execution_count": 5,
     "metadata": {},
     "output_type": "execute_result"
    }
   ],
   "source": [
    "b"
   ]
  },
  {
   "cell_type": "code",
   "execution_count": 1,
   "id": "df8238ec",
   "metadata": {},
   "outputs": [
    {
     "name": "stdout",
     "output_type": "stream",
     "text": [
      "123\n"
     ]
    }
   ],
   "source": [
    "b = int(input())"
   ]
  },
  {
   "cell_type": "code",
   "execution_count": 2,
   "id": "0e8ec101",
   "metadata": {},
   "outputs": [
    {
     "data": {
      "text/plain": [
       "123"
      ]
     },
     "execution_count": 2,
     "metadata": {},
     "output_type": "execute_result"
    }
   ],
   "source": [
    "b"
   ]
  },
  {
   "cell_type": "code",
   "execution_count": null,
   "id": "a4b7e677",
   "metadata": {},
   "outputs": [],
   "source": [
    "type(b)"
   ]
  },
  {
   "cell_type": "code",
   "execution_count": 3,
   "id": "b6a7c749",
   "metadata": {},
   "outputs": [
    {
     "name": "stdout",
     "output_type": "stream",
     "text": [
      "600\n",
      "i wont be able to buy anything with this price tag\n"
     ]
    }
   ],
   "source": [
    "price = int(input())\n",
    "if price <500 :\n",
    "    print(\"i will be also to buy something\")\n",
    "    if price < 400 :\n",
    "        print(\"i will be able to buy a jacket\")\n",
    "    elif price < 300 :\n",
    "        print(\"i will be able to buy a shirt\")\n",
    "    else :\n",
    "        print(\"i will be able to buy anything\")\n",
    "        \n",
    "else :\n",
    "        print(\"i wont be able to buy anything with this price tag\")"
   ]
  },
  {
   "cell_type": "code",
   "execution_count": 6,
   "id": "a6e45eef",
   "metadata": {},
   "outputs": [
    {
     "name": "stdout",
     "output_type": "stream",
     "text": [
      "300\n",
      "i will be also to buy something\n",
      "i will be able to buy a jacket\n"
     ]
    }
   ],
   "source": [
    "price = int(input())\n",
    "if price <500 :\n",
    "    print(\"i will be also to buy something\")\n",
    "    if price < 400 :\n",
    "        print(\"i will be able to buy a jacket\")\n",
    "    elif price < 300 :\n",
    "        print(\"i will be able to buy a shirt\")\n",
    "        \n",
    "    else :\n",
    "            print(\"i wont able to buy something\")\n",
    "        \n",
    "else :\n",
    "        print(\"i wont be able to buy anything with this price\")\n",
    "   "
   ]
  },
  {
   "cell_type": "code",
   "execution_count": 9,
   "id": "8d2790cb",
   "metadata": {},
   "outputs": [
    {
     "name": "stdout",
     "output_type": "stream",
     "text": [
      "600\n",
      "i will be able to buy anything with this price tag\n",
      "lets try something else\n"
     ]
    }
   ],
   "source": [
    "price = int(input())\n",
    "if price <500 :\n",
    "    print(\"i will be also to buy something\")\n",
    "    if price < 400 :\n",
    "        print(\"i will be able to buy a jacket\")\n",
    "    elif price < 300 :\n",
    "        print(\"i will be able to buy a shirt\")\n",
    "        \n",
    "        if price < 200 :\n",
    "            print(\"i would like to do something\")\n",
    "        else :\n",
    "            print(\"i wont be able to buy anything\")\n",
    "else :\n",
    "        print(\"i will be able to buy anything with this price tag\")\n",
    "        \n",
    "\n",
    "        if price >500 :\n",
    "                print(\"lets try something else\")   "
   ]
  },
  {
   "cell_type": "code",
   "execution_count": 80,
   "id": "8178b122",
   "metadata": {},
   "outputs": [
    {
     "name": "stdout",
     "output_type": "stream",
     "text": [
      "300\n",
      "GRE\n",
      "TOFEL\n",
      "tou got TOFEL\n"
     ]
    }
   ],
   "source": [
    "marks = int(input())\n",
    "if marks < 600 :\n",
    "    print(\"GRE\")\n",
    "    if marks < 500 :\n",
    "        print(\"TOFEL\")\n",
    "    if price < 400 :\n",
    "        print(\"Try something else\")\n",
    "    else :\n",
    "            print(\"tou got TOFEL\")\n",
    "            \n",
    "else:\n",
    "            \n",
    "            print(\"You got GRE\")\n",
    "        "
   ]
  },
  {
   "cell_type": "code",
   "execution_count": 72,
   "id": "7e86fb8e",
   "metadata": {},
   "outputs": [
    {
     "name": "stdout",
     "output_type": "stream",
     "text": [
      "500\n",
      "GRE\n",
      "Nothing GO FOR TOFEL\n"
     ]
    }
   ],
   "source": [
    "marks = int(input())\n",
    "\n",
    "if marks < 600  :\n",
    "    print(\"GRE\")   \n",
    "    if marks < 500  :\n",
    "        print(\"TOFEL\")    \n",
    "        if marks < 400  :\n",
    "            print(\"Try something else\") \n",
    "    else :   \n",
    "        print(\"Nothing GO FOR TOFEL\") \n",
    "else : \n",
    "    print(\"Go for GRE\") "
   ]
  },
  {
   "cell_type": "code",
   "execution_count": 74,
   "id": "1d815383",
   "metadata": {},
   "outputs": [
    {
     "name": "stdout",
     "output_type": "stream",
     "text": [
      "enter a floating point number324\n",
      "entered number is posituve number\n"
     ]
    }
   ],
   "source": [
    "val = float(input(\"enter a floating point number\"))\n",
    "if val >= 0:\n",
    "    if val ==0:\n",
    "        print(\"entered value is zero\")\n",
    "    else :\n",
    "        print(\"entered number is posituve number\")\n",
    "else :\n",
    "        print(\"entered number is negative number\")"
   ]
  },
  {
   "cell_type": "markdown",
   "id": "4dbf445a",
   "metadata": {},
   "source": [
    "***************Multiple conditions**********"
   ]
  },
  {
   "cell_type": "code",
   "execution_count": 1,
   "id": "2bf8c8f7",
   "metadata": {},
   "outputs": [
    {
     "name": "stdout",
     "output_type": "stream",
     "text": [
      "try to do something\n"
     ]
    }
   ],
   "source": [
    "a = 10\n",
    "if a <=10 :\n",
    "    print(\"try to do something\")"
   ]
  },
  {
   "cell_type": "code",
   "execution_count": 2,
   "id": "b3ebc38a",
   "metadata": {},
   "outputs": [
    {
     "name": "stdout",
     "output_type": "stream",
     "text": [
      "try to do something\n"
     ]
    }
   ],
   "source": [
    "a = 10\n",
    "if a < 10  or a ==10 :\n",
    "    print(\"try to do something\")"
   ]
  },
  {
   "cell_type": "code",
   "execution_count": 3,
   "id": "ed5b4719",
   "metadata": {},
   "outputs": [],
   "source": [
    "a = 10\n",
    "if a < 10  or a > 10 :\n",
    "    print(\"try to do something\")"
   ]
  },
  {
   "cell_type": "code",
   "execution_count": 4,
   "id": "c323266a",
   "metadata": {},
   "outputs": [],
   "source": [
    "a = 10\n",
    "if a < 10  and a > 10 :\n",
    "    print(\"try to do something\")"
   ]
  },
  {
   "cell_type": "code",
   "execution_count": 5,
   "id": "b66cec29",
   "metadata": {},
   "outputs": [],
   "source": [
    "a = \"sudh\"\n",
    "if a == \"sudh\" and a == \"Sudh\" :\n",
    "     print(\"this is sudh\")"
   ]
  },
  {
   "cell_type": "code",
   "execution_count": 6,
   "id": "0ff0df81",
   "metadata": {},
   "outputs": [
    {
     "name": "stdout",
     "output_type": "stream",
     "text": [
      "this is sudh\n"
     ]
    }
   ],
   "source": [
    "a = \"sudh\"\n",
    "if a == \"sudh\" or a == \"Sudh\" :\n",
    "     print(\"this is sudh\")"
   ]
  },
  {
   "cell_type": "code",
   "execution_count": 7,
   "id": "498b039b",
   "metadata": {},
   "outputs": [],
   "source": [
    "a = 10\n",
    "b = 11\n",
    "c = 12\n",
    "d = 13\n",
    "if a == 9 and b == 11 and c == 12 and d == 13 :\n",
    "    print(\"lets do something\")"
   ]
  },
  {
   "cell_type": "code",
   "execution_count": 1,
   "id": "cee6595e",
   "metadata": {},
   "outputs": [
    {
     "name": "stdout",
     "output_type": "stream",
     "text": [
      "lets do something\n"
     ]
    }
   ],
   "source": [
    "a = 10\n",
    "b = 11\n",
    "c = 12\n",
    "d = 13\n",
    "if a == 9 or b == 11 and c == 12 and d == 13 :\n",
    "    print(\"lets do something\")"
   ]
  },
  {
   "cell_type": "code",
   "execution_count": 2,
   "id": "6120c64c",
   "metadata": {},
   "outputs": [],
   "source": [
    "d ={'key1' : \"value\", \"key2\" : \"sudh\", \"key3\" : \"ineuron\"}"
   ]
  },
  {
   "cell_type": "code",
   "execution_count": 3,
   "id": "4621492c",
   "metadata": {},
   "outputs": [
    {
     "data": {
      "text/plain": [
       "'value'"
      ]
     },
     "execution_count": 3,
     "metadata": {},
     "output_type": "execute_result"
    }
   ],
   "source": [
    " d['key1']"
   ]
  },
  {
   "cell_type": "code",
   "execution_count": 4,
   "id": "5557190a",
   "metadata": {},
   "outputs": [
    {
     "name": "stdout",
     "output_type": "stream",
     "text": [
      "all the values are verified\n",
      "dict_values(['value', 'sudh', 'ineuron'])\n"
     ]
    }
   ],
   "source": [
    "if d['key1'] == \"value\" and d['key2'] == \"sudh\" and d['key3'] == \"ineuron\" :\n",
    "    print(\"all the values are verified\")\n",
    "    print(d.values())"
   ]
  },
  {
   "cell_type": "code",
   "execution_count": 5,
   "id": "154ae211",
   "metadata": {},
   "outputs": [
    {
     "name": "stdout",
     "output_type": "stream",
     "text": [
      "all the values are verified\n",
      "dict_values(['value', 'sudh', 'ineuron'])\n"
     ]
    }
   ],
   "source": [
    "if d['key1'] == \"value\" and d['key2'] == \"sudh\" and d['key3'] == \"ineuron\" :\n",
    "    print(\"all the values are verified\")\n",
    "    print(d.values())\n",
    "else :\n",
    "    print(\"all the values are not verified\")"
   ]
  },
  {
   "cell_type": "code",
   "execution_count": 6,
   "id": "772dc742",
   "metadata": {},
   "outputs": [
    {
     "data": {
      "text/plain": [
       "'value'"
      ]
     },
     "execution_count": 6,
     "metadata": {},
     "output_type": "execute_result"
    }
   ],
   "source": [
    "d['key1']"
   ]
  },
  {
   "cell_type": "code",
   "execution_count": 7,
   "id": "089ba5c9",
   "metadata": {},
   "outputs": [],
   "source": [
    "l = [1,2,3,4,5,\"sudh\", 234.45]"
   ]
  },
  {
   "cell_type": "code",
   "execution_count": 8,
   "id": "fb40f054",
   "metadata": {},
   "outputs": [
    {
     "data": {
      "text/plain": [
       "1"
      ]
     },
     "execution_count": 8,
     "metadata": {},
     "output_type": "execute_result"
    }
   ],
   "source": [
    "l[0]"
   ]
  },
  {
   "cell_type": "code",
   "execution_count": 9,
   "id": "1279bcaa",
   "metadata": {},
   "outputs": [
    {
     "data": {
      "text/plain": [
       "2"
      ]
     },
     "execution_count": 9,
     "metadata": {},
     "output_type": "execute_result"
    }
   ],
   "source": [
    "l[1]"
   ]
  },
  {
   "cell_type": "code",
   "execution_count": 10,
   "id": "02071133",
   "metadata": {},
   "outputs": [
    {
     "data": {
      "text/plain": [
       "[3, 4, 5]"
      ]
     },
     "execution_count": 10,
     "metadata": {},
     "output_type": "execute_result"
    }
   ],
   "source": [
    "l[2:5]"
   ]
  },
  {
   "cell_type": "code",
   "execution_count": 11,
   "id": "8eeeab1b",
   "metadata": {},
   "outputs": [
    {
     "name": "stdout",
     "output_type": "stream",
     "text": [
      "1\n",
      "2\n",
      "3\n",
      "4\n",
      "5\n",
      "sudh\n",
      "234.45\n"
     ]
    }
   ],
   "source": [
    "for i in l:\n",
    "    print(i)"
   ]
  },
  {
   "cell_type": "code",
   "execution_count": 12,
   "id": "faa3c2c9",
   "metadata": {},
   "outputs": [
    {
     "data": {
      "text/plain": [
       "[1, 2, 3, 4, 5, 'sudh', 234.45]"
      ]
     },
     "execution_count": 12,
     "metadata": {},
     "output_type": "execute_result"
    }
   ],
   "source": [
    "l"
   ]
  },
  {
   "cell_type": "code",
   "execution_count": 13,
   "id": "f931f13e",
   "metadata": {},
   "outputs": [
    {
     "name": "stdout",
     "output_type": "stream",
     "text": [
      "2\n",
      "3\n",
      "4\n",
      "5\n",
      "6\n"
     ]
    },
    {
     "ename": "TypeError",
     "evalue": "can only concatenate str (not \"int\") to str",
     "output_type": "error",
     "traceback": [
      "\u001b[1;31m---------------------------------------------------------------------------\u001b[0m",
      "\u001b[1;31mTypeError\u001b[0m                                 Traceback (most recent call last)",
      "Input \u001b[1;32mIn [13]\u001b[0m, in \u001b[0;36m<cell line: 1>\u001b[1;34m()\u001b[0m\n\u001b[0;32m      1\u001b[0m \u001b[38;5;28;01mfor\u001b[39;00m i \u001b[38;5;129;01min\u001b[39;00m l:\n\u001b[1;32m----> 2\u001b[0m     \u001b[38;5;28mprint\u001b[39m(\u001b[43mi\u001b[49m\u001b[38;5;241;43m+\u001b[39;49m\u001b[38;5;241;43m1\u001b[39;49m)\n",
      "\u001b[1;31mTypeError\u001b[0m: can only concatenate str (not \"int\") to str"
     ]
    }
   ],
   "source": [
    "for i in l:\n",
    "    print(i+1)"
   ]
  },
  {
   "cell_type": "code",
   "execution_count": 14,
   "id": "563f1aba",
   "metadata": {},
   "outputs": [
    {
     "name": "stdout",
     "output_type": "stream",
     "text": [
      "2\n",
      "3\n",
      "4\n",
      "5\n",
      "6\n",
      "sudh1\n"
     ]
    }
   ],
   "source": [
    "for i in l:\n",
    "    if type(i) == int :\n",
    "        \n",
    "        print(i+1)\n",
    "    elif type(i) == str:\n",
    "        print(i + str(1))"
   ]
  },
  {
   "cell_type": "code",
   "execution_count": null,
   "id": "168c7c14",
   "metadata": {},
   "outputs": [],
   "source": [
    "for i in l:\n",
    "    if type(i) == int or type(i) == float :\n",
    "        \n",
    "        print(i+1)\n",
    "    elif type(i) == str:\n",
    "        print(i + str(1))"
   ]
  },
  {
   "cell_type": "code",
   "execution_count": null,
   "id": "1b0959c6",
   "metadata": {},
   "outputs": [],
   "source": []
  }
 ],
 "metadata": {
  "kernelspec": {
   "display_name": "Python 3 (ipykernel)",
   "language": "python",
   "name": "python3"
  },
  "language_info": {
   "codemirror_mode": {
    "name": "ipython",
    "version": 3
   },
   "file_extension": ".py",
   "mimetype": "text/x-python",
   "name": "python",
   "nbconvert_exporter": "python",
   "pygments_lexer": "ipython3",
   "version": "3.9.12"
  }
 },
 "nbformat": 4,
 "nbformat_minor": 5
}
