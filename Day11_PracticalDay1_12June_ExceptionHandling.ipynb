{
 "cells": [
  {
   "cell_type": "markdown",
   "id": "55d6eb98",
   "metadata": {},
   "source": [
    "# Exception Handling"
   ]
  },
  {
   "cell_type": "code",
   "execution_count": 1,
   "id": "e85c6e9c",
   "metadata": {},
   "outputs": [
    {
     "name": "stdout",
     "output_type": "stream",
     "text": [
      "30\n"
     ]
    }
   ],
   "source": [
    "a=10\n",
    "b=20\n",
    "c=a+b\n",
    "print(c)"
   ]
  },
  {
   "cell_type": "markdown",
   "id": "d68cf955",
   "metadata": {},
   "source": [
    "# COMPILETIME ERROR:"
   ]
  },
  {
   "cell_type": "code",
   "execution_count": 2,
   "id": "f3b546bc",
   "metadata": {},
   "outputs": [
    {
     "ename": "SyntaxError",
     "evalue": "unexpected EOF while parsing (1116166254.py, line 4)",
     "output_type": "error",
     "traceback": [
      "\u001b[1;36m  Input \u001b[1;32mIn [2]\u001b[1;36m\u001b[0m\n\u001b[1;33m    print(c\u001b[0m\n\u001b[1;37m           ^\u001b[0m\n\u001b[1;31mSyntaxError\u001b[0m\u001b[1;31m:\u001b[0m unexpected EOF while parsing\n"
     ]
    }
   ],
   "source": [
    "a=10\n",
    "b=20\n",
    "c=a+b\n",
    "print(c"
   ]
  },
  {
   "cell_type": "markdown",
   "id": "21602e3a",
   "metadata": {},
   "source": [
    "# RUNTIME ERROR"
   ]
  },
  {
   "cell_type": "code",
   "execution_count": 3,
   "id": "5dfa196c",
   "metadata": {},
   "outputs": [
    {
     "ename": "TypeError",
     "evalue": "unsupported operand type(s) for +: 'int' and 'str'",
     "output_type": "error",
     "traceback": [
      "\u001b[1;31m---------------------------------------------------------------------------\u001b[0m",
      "\u001b[1;31mTypeError\u001b[0m                                 Traceback (most recent call last)",
      "Input \u001b[1;32mIn [3]\u001b[0m, in \u001b[0;36m<cell line: 3>\u001b[1;34m()\u001b[0m\n\u001b[0;32m      1\u001b[0m a\u001b[38;5;241m=\u001b[39m\u001b[38;5;241m10\u001b[39m\n\u001b[0;32m      2\u001b[0m b\u001b[38;5;241m=\u001b[39m\u001b[38;5;124m\"\u001b[39m\u001b[38;5;124ms\u001b[39m\u001b[38;5;124m\"\u001b[39m\n\u001b[1;32m----> 3\u001b[0m c\u001b[38;5;241m=\u001b[39m\u001b[43ma\u001b[49m\u001b[38;5;241;43m+\u001b[39;49m\u001b[43mb\u001b[49m\n\u001b[0;32m      4\u001b[0m \u001b[38;5;28mprint\u001b[39m(c)\n",
      "\u001b[1;31mTypeError\u001b[0m: unsupported operand type(s) for +: 'int' and 'str'"
     ]
    }
   ],
   "source": [
    "a=10\n",
    "b=\"s\"\n",
    "c=a+b\n",
    "print(c)"
   ]
  },
  {
   "cell_type": "code",
   "execution_count": 6,
   "id": "338e6064",
   "metadata": {},
   "outputs": [
    {
     "name": "stdout",
     "output_type": "stream",
     "text": [
      "enter first number20\n",
      "enter second number10\n",
      "2.0\n"
     ]
    }
   ],
   "source": [
    "a= int(input(\"enter first number\"))\n",
    "b= int(input(\"enter second number\"))\n",
    "c=a/b\n",
    "print(c)\n"
   ]
  },
  {
   "cell_type": "code",
   "execution_count": 2,
   "id": "46fe431a",
   "metadata": {},
   "outputs": [
    {
     "name": "stdout",
     "output_type": "stream",
     "text": [
      "enter first number10\n",
      "enter second number0\n"
     ]
    },
    {
     "ename": "ZeroDivisionError",
     "evalue": "division by zero",
     "output_type": "error",
     "traceback": [
      "\u001b[1;31m---------------------------------------------------------------------------\u001b[0m",
      "\u001b[1;31mZeroDivisionError\u001b[0m                         Traceback (most recent call last)",
      "Input \u001b[1;32mIn [2]\u001b[0m, in \u001b[0;36m<cell line: 3>\u001b[1;34m()\u001b[0m\n\u001b[0;32m      1\u001b[0m a\u001b[38;5;241m=\u001b[39m \u001b[38;5;28mint\u001b[39m(\u001b[38;5;28minput\u001b[39m(\u001b[38;5;124m\"\u001b[39m\u001b[38;5;124menter first number\u001b[39m\u001b[38;5;124m\"\u001b[39m))\n\u001b[0;32m      2\u001b[0m b\u001b[38;5;241m=\u001b[39m \u001b[38;5;28mint\u001b[39m(\u001b[38;5;28minput\u001b[39m(\u001b[38;5;124m\"\u001b[39m\u001b[38;5;124menter second number\u001b[39m\u001b[38;5;124m\"\u001b[39m))\n\u001b[1;32m----> 3\u001b[0m c\u001b[38;5;241m=\u001b[39m\u001b[43ma\u001b[49m\u001b[38;5;241;43m/\u001b[39;49m\u001b[43mb\u001b[49m\n\u001b[0;32m      4\u001b[0m \u001b[38;5;28mprint\u001b[39m(c)\n",
      "\u001b[1;31mZeroDivisionError\u001b[0m: division by zero"
     ]
    }
   ],
   "source": [
    "a= int(input(\"enter first number\"))#RUNTIME ERROR\n",
    "b= int(input(\"enter second number\"))\n",
    "c=a/b\n",
    "print(c)\n"
   ]
  },
  {
   "cell_type": "code",
   "execution_count": 7,
   "id": "059fd35b",
   "metadata": {},
   "outputs": [
    {
     "name": "stdout",
     "output_type": "stream",
     "text": [
      "enter first number20\n",
      "enter second number10\n",
      "2.0\n",
      "200\n"
     ]
    }
   ],
   "source": [
    "a= int(input(\"enter first number\"))\n",
    "b= int(input(\"enter second number\"))\n",
    "c=a/b\n",
    "print(c)\n",
    "d=a*b\n",
    "print(d)"
   ]
  },
  {
   "cell_type": "code",
   "execution_count": 3,
   "id": "2cf9676e",
   "metadata": {},
   "outputs": [
    {
     "name": "stdout",
     "output_type": "stream",
     "text": [
      "enter first number10\n",
      "enter second number0\n"
     ]
    },
    {
     "ename": "ZeroDivisionError",
     "evalue": "division by zero",
     "output_type": "error",
     "traceback": [
      "\u001b[1;31m---------------------------------------------------------------------------\u001b[0m",
      "\u001b[1;31mZeroDivisionError\u001b[0m                         Traceback (most recent call last)",
      "Input \u001b[1;32mIn [3]\u001b[0m, in \u001b[0;36m<cell line: 3>\u001b[1;34m()\u001b[0m\n\u001b[0;32m      1\u001b[0m a\u001b[38;5;241m=\u001b[39m \u001b[38;5;28mint\u001b[39m(\u001b[38;5;28minput\u001b[39m(\u001b[38;5;124m\"\u001b[39m\u001b[38;5;124menter first number\u001b[39m\u001b[38;5;124m\"\u001b[39m))\n\u001b[0;32m      2\u001b[0m b\u001b[38;5;241m=\u001b[39m \u001b[38;5;28mint\u001b[39m(\u001b[38;5;28minput\u001b[39m(\u001b[38;5;124m\"\u001b[39m\u001b[38;5;124menter second number\u001b[39m\u001b[38;5;124m\"\u001b[39m))\n\u001b[1;32m----> 3\u001b[0m c\u001b[38;5;241m=\u001b[39m\u001b[43ma\u001b[49m\u001b[38;5;241;43m/\u001b[39;49m\u001b[43mb\u001b[49m\n\u001b[0;32m      4\u001b[0m \u001b[38;5;28mprint\u001b[39m(c)\n\u001b[0;32m      5\u001b[0m d\u001b[38;5;241m=\u001b[39ma\u001b[38;5;241m*\u001b[39mb\n",
      "\u001b[1;31mZeroDivisionError\u001b[0m: division by zero"
     ]
    }
   ],
   "source": [
    "a= int(input(\"enter first number\"))#RUNTIME ERROR\n",
    "b= int(input(\"enter second number\"))\n",
    "c=a/b\n",
    "print(c)\n",
    "d=a*b\n",
    "print(d)"
   ]
  },
  {
   "cell_type": "markdown",
   "id": "7691ae71",
   "metadata": {},
   "source": [
    "# try, except, else, raise, finally"
   ]
  },
  {
   "cell_type": "code",
   "execution_count": 9,
   "id": "783e8f7c",
   "metadata": {},
   "outputs": [
    {
     "name": "stdout",
     "output_type": "stream",
     "text": [
      "enter first number20\n",
      "enter second number10\n",
      "2.0\n"
     ]
    }
   ],
   "source": [
    "a= int(input(\"enter first number\"))\n",
    "b= int(input(\"enter second number\"))\n",
    "try:\n",
    "    \n",
    "    c=a/b\n",
    "    print(c)\n",
    "except:\n",
    "    print(\"b should not be a zero\")"
   ]
  },
  {
   "cell_type": "code",
   "execution_count": 5,
   "id": "ea00d29b",
   "metadata": {},
   "outputs": [
    {
     "name": "stdout",
     "output_type": "stream",
     "text": [
      "enter first number10\n",
      "enter second number0\n",
      "b should not be a zero\n"
     ]
    }
   ],
   "source": [
    "a= int(input(\"enter first number\"))\n",
    "b= int(input(\"enter second number\"))\n",
    "try:\n",
    "    \n",
    "    c=a/b\n",
    "    print(c)\n",
    "except:\n",
    "    print(\"b should not be a zero\")"
   ]
  },
  {
   "cell_type": "markdown",
   "id": "e7d05dde",
   "metadata": {},
   "source": [
    "# We will use exception classes to except "
   ]
  },
  {
   "cell_type": "code",
   "execution_count": 10,
   "id": "ff648073",
   "metadata": {},
   "outputs": [
    {
     "name": "stdout",
     "output_type": "stream",
     "text": [
      "enter first number20\n",
      "enter second number0\n",
      "b should not be a zero\n"
     ]
    }
   ],
   "source": [
    "a= int(input(\"enter first number\"))\n",
    "b= int(input(\"enter second number\"))\n",
    "try:\n",
    "    \n",
    "    c=a/b\n",
    "    print(c)\n",
    "except ZeroDivisionError:\n",
    "    print(\"b should not be a zero\")"
   ]
  },
  {
   "cell_type": "code",
   "execution_count": 1,
   "id": "ce353c00",
   "metadata": {},
   "outputs": [
    {
     "ename": "SyntaxError",
     "evalue": "unmatched ')' (2653681725.py, line 6)",
     "output_type": "error",
     "traceback": [
      "\u001b[1;36m  Input \u001b[1;32mIn [1]\u001b[1;36m\u001b[0m\n\u001b[1;33m    print(c))\u001b[0m\n\u001b[1;37m            ^\u001b[0m\n\u001b[1;31mSyntaxError\u001b[0m\u001b[1;31m:\u001b[0m unmatched ')'\n"
     ]
    }
   ],
   "source": [
    "a= int(input(\"enter first number\"))#Syntax Error\n",
    "b= int(input(\"enter second number\"))\n",
    "try:\n",
    "    \n",
    "    c=a/b\n",
    "    print(c))\n",
    "except :\n",
    "    print(\"wrong syntax\")\n",
    "d=a+b\n",
    "print(d)"
   ]
  },
  {
   "cell_type": "code",
   "execution_count": 12,
   "id": "598cfe24",
   "metadata": {},
   "outputs": [
    {
     "name": "stdout",
     "output_type": "stream",
     "text": [
      "enter first number10\n",
      "enter second number0\n",
      "b should not be a zero\n",
      "10\n"
     ]
    }
   ],
   "source": [
    "a= int(input(\"enter first number\"))\n",
    "b= int(input(\"enter second number\"))\n",
    "try:\n",
    "    \n",
    "    c=a/b\n",
    "    print(c)\n",
    "except :\n",
    "    print(\"b should not be a zero\")\n",
    "d=a+b\n",
    "print(d)"
   ]
  },
  {
   "cell_type": "markdown",
   "id": "7dd74647",
   "metadata": {},
   "source": [
    "# Question"
   ]
  },
  {
   "cell_type": "code",
   "execution_count": null,
   "id": "cdc4936d",
   "metadata": {},
   "outputs": [],
   "source": [
    "Write a program to ask the user to input 2 integers and calculate and print their division. Make sure your program behaves as follows:\n",
    "\n",
    "If the user enters a non integer value then ask him to enter only integers\n",
    "If denominator is 0 , then ask him to input non-zero denominator\n",
    "Repeat the process until correct input is given\n",
    "\n",
    "Only if the inputs are correct then display their division and terminate the code"
   ]
  },
  {
   "cell_type": "markdown",
   "id": "ce219e15",
   "metadata": {},
   "source": [
    "# Examples of using exception class and not using exception class:"
   ]
  },
  {
   "cell_type": "code",
   "execution_count": 3,
   "id": "1692c7bb",
   "metadata": {},
   "outputs": [
    {
     "name": "stdout",
     "output_type": "stream",
     "text": [
      "enter first number10\n",
      "enter second number0\n",
      "b should not be a zero or non integer\n"
     ]
    }
   ],
   "source": [
    "a= int(input(\"enter first number\"))\n",
    "b= int(input(\"enter second number\"))\n",
    "try:\n",
    "    #if a == str or a == str or a == 0 or b == 0:\n",
    "        c=a/b\n",
    "        print(c)\n",
    "except ZeroDivisionError:\n",
    "        print(\"b should not be a zero or non integer\")\n"
   ]
  },
  {
   "cell_type": "code",
   "execution_count": 1,
   "id": "69a77b0a",
   "metadata": {},
   "outputs": [
    {
     "name": "stdout",
     "output_type": "stream",
     "text": [
      "enter first number10\n",
      "enter second number0\n",
      "b should not be a zero\n"
     ]
    }
   ],
   "source": [
    "a= int(input(\"enter first number\"))\n",
    "b= int(input(\"enter second number\"))\n",
    "try:\n",
    "    c=a/b\n",
    "    print(c)\n",
    "    d=a+str(b)\n",
    "    print(d)\n",
    "except ZeroDivisionError:\n",
    "    print(\"b should not be a zero\")"
   ]
  },
  {
   "cell_type": "code",
   "execution_count": 2,
   "id": "94dabfff",
   "metadata": {},
   "outputs": [
    {
     "name": "stdout",
     "output_type": "stream",
     "text": [
      "enter first number10\n",
      "enter second number0\n",
      "b should not be a zero\n"
     ]
    }
   ],
   "source": [
    "a= int(input(\"enter first number\"))\n",
    "b= int(input(\"enter second number\"))\n",
    "try:\n",
    "    c=a/b\n",
    "    print(c)\n",
    "    d=a+str(b)\n",
    "    print(d)\n",
    "except:\n",
    "    print(\"b should not be a zero\")"
   ]
  },
  {
   "cell_type": "code",
   "execution_count": 25,
   "id": "05a69cef",
   "metadata": {},
   "outputs": [
    {
     "name": "stdout",
     "output_type": "stream",
     "text": [
      "enter first number10\n",
      "enter second number20\n",
      "0.5\n",
      "30\n"
     ]
    }
   ],
   "source": [
    "a= int(input(\"enter first number\"))\n",
    "b= int(input(\"enter second number\"))\n",
    "try:\n",
    "    c=a/b\n",
    "    print(c)\n",
    "    d=a+b\n",
    "    print(d)\n",
    "except ZeroDivisionError:\n",
    "    print(\"b should not be a zero\")\n",
    "\n",
    "except ValueError:\n",
    "    print(\"input number only\")"
   ]
  },
  {
   "cell_type": "code",
   "execution_count": 26,
   "id": "6a62c40e",
   "metadata": {},
   "outputs": [
    {
     "name": "stdout",
     "output_type": "stream",
     "text": [
      "enter first number10\n",
      "enter second number20\n",
      "0.5\n"
     ]
    },
    {
     "ename": "TypeError",
     "evalue": "unsupported operand type(s) for +: 'int' and 'str'",
     "output_type": "error",
     "traceback": [
      "\u001b[1;31m---------------------------------------------------------------------------\u001b[0m",
      "\u001b[1;31mTypeError\u001b[0m                                 Traceback (most recent call last)",
      "Input \u001b[1;32mIn [26]\u001b[0m, in \u001b[0;36m<cell line: 3>\u001b[1;34m()\u001b[0m\n\u001b[0;32m      4\u001b[0m     c\u001b[38;5;241m=\u001b[39ma\u001b[38;5;241m/\u001b[39mb\n\u001b[0;32m      5\u001b[0m     \u001b[38;5;28mprint\u001b[39m(c)\n\u001b[1;32m----> 6\u001b[0m     d\u001b[38;5;241m=\u001b[39m\u001b[43ma\u001b[49m\u001b[38;5;241;43m+\u001b[39;49m\u001b[38;5;28;43mstr\u001b[39;49m\u001b[43m(\u001b[49m\u001b[43mb\u001b[49m\u001b[43m)\u001b[49m\n\u001b[0;32m      7\u001b[0m     \u001b[38;5;28mprint\u001b[39m(d)\n\u001b[0;32m      8\u001b[0m \u001b[38;5;28;01mexcept\u001b[39;00m \u001b[38;5;167;01mZeroDivisionError\u001b[39;00m:\n",
      "\u001b[1;31mTypeError\u001b[0m: unsupported operand type(s) for +: 'int' and 'str'"
     ]
    }
   ],
   "source": [
    "a= int(input(\"enter first number\"))\n",
    "b= int(input(\"enter second number\"))\n",
    "try:\n",
    "    c=a/b\n",
    "    print(c)\n",
    "    d=a+str(b)\n",
    "    print(d)\n",
    "except ZeroDivisionError:\n",
    "    print(\"b should not be a zero\")\n",
    "    \n",
    "except ValueError:\n",
    "    print(\"input number only\")"
   ]
  },
  {
   "cell_type": "code",
   "execution_count": null,
   "id": "9bd58319",
   "metadata": {},
   "outputs": [],
   "source": [
    "a= int(input(\"enter first number\"))\n",
    "b= int(input(\"enter second number\"))\n",
    "try:\n",
    "    c=a/b\n",
    "    print(c)\n",
    "    d=a+str(b)\n",
    "    print(d)\n",
    "except ZeroDivisionError:\n",
    "    print(\"b should not be a zero\")\n",
    "    \n",
    "except ValueError:\n",
    "    print(\"input number only\")"
   ]
  },
  {
   "cell_type": "code",
   "execution_count": 24,
   "id": "9f9fe71f",
   "metadata": {},
   "outputs": [
    {
     "name": "stdout",
     "output_type": "stream",
     "text": [
      "enter first number10\n",
      "enter second number0\n",
      "b should not be a zero or please input number only\n"
     ]
    }
   ],
   "source": [
    "a= int(input(\"enter first number\"))\n",
    "b= int(input(\"enter second number\"))\n",
    "try:\n",
    "    c=a/b\n",
    "    print(c)\n",
    "    d=a+str(b)\n",
    "    print(d)\n",
    "except (ZeroDivisionError, ValueError):\n",
    "    print(\"b should not be a zero or please input number only\")"
   ]
  },
  {
   "cell_type": "markdown",
   "id": "4ba908fb",
   "metadata": {},
   "source": [
    "# Solving this question:"
   ]
  },
  {
   "cell_type": "raw",
   "id": "53b5f81b",
   "metadata": {},
   "source": [
    "Write a program to ask the user to input 2 integers and calculate and print their division. Make sure your program behaves as follows:\n",
    "\n",
    "If the user enters a non integer value then ask him to enter only integers\n",
    "If denominator is 0 , then ask him to input non-zero denominator\n",
    "Repeat the process until correct input is given\n",
    "\n",
    "Only if the inputs are correct then display their division and terminate the code"
   ]
  },
  {
   "cell_type": "code",
   "execution_count": 31,
   "id": "c662e527",
   "metadata": {},
   "outputs": [
    {
     "name": "stdout",
     "output_type": "stream",
     "text": [
      "enter first number10\n",
      "enter second numbera\n",
      "there should not be string\n",
      "enter first number10\n",
      "enter second number20\n",
      "0.5\n"
     ]
    }
   ],
   "source": [
    "while True:\n",
    "    \n",
    "    try:\n",
    "        a= int(input(\"enter first number\"))\n",
    "        b= int(input(\"enter second number\"))\n",
    "        c = a/b\n",
    "        print(c)\n",
    "        break\n",
    "    except ZeroDivisionError:\n",
    "        print(\"non zero denominator\")\n",
    "    except ValueError:\n",
    "        print(\"there should not be string\")\n",
    "        \n",
    "    "
   ]
  },
  {
   "cell_type": "markdown",
   "id": "1e24ee07",
   "metadata": {},
   "source": [
    "# Topics:"
   ]
  },
  {
   "cell_type": "code",
   "execution_count": null,
   "id": "42a4e26d",
   "metadata": {},
   "outputs": [],
   "source": [
    "try \n",
    "except\n",
    "else\n",
    "raise\n",
    "finally"
   ]
  },
  {
   "cell_type": "code",
   "execution_count": 1,
   "id": "3bd821a3",
   "metadata": {},
   "outputs": [
    {
     "name": "stdout",
     "output_type": "stream",
     "text": [
      "enter first number10\n",
      "enter second number0\n",
      "b should not be string\n",
      "enter first number10\n",
      "enter second number20\n",
      "div: 0.5\n"
     ]
    }
   ],
   "source": [
    "while True:\n",
    "    \n",
    "    try:\n",
    "        a= int(input(\"enter first number\"))\n",
    "        b= int(input(\"enter second number\"))\n",
    "        c = a/b\n",
    "        print(\"div:\", c)\n",
    "        break\n",
    "    except :\n",
    "        print(\"b should not be string\")\n",
    "        "
   ]
  },
  {
   "cell_type": "code",
   "execution_count": 5,
   "id": "ddce729a",
   "metadata": {},
   "outputs": [
    {
     "name": "stdout",
     "output_type": "stream",
     "text": [
      "enter first number10\n",
      "enter second number20\n",
      "div: 0.5\n"
     ]
    }
   ],
   "source": [
    " while True:\n",
    "    \n",
    "    try:\n",
    "        a= int(input(\"enter first number\"))\n",
    "        b= int(input(\"enter second number\"))\n",
    "        c = a/b\n",
    "        print(\"div:\", c)\n",
    "        break\n",
    "    except ZeroDivisionError as e:\n",
    "        print(e)\n",
    "        "
   ]
  },
  {
   "cell_type": "markdown",
   "id": "c3092163",
   "metadata": {},
   "source": [
    "# Sys is the modul . .py is the python file . it will give more detail regarding exception class "
   ]
  },
  {
   "cell_type": "code",
   "execution_count": 6,
   "id": "8e361a82",
   "metadata": {},
   "outputs": [
    {
     "name": "stdout",
     "output_type": "stream",
     "text": [
      "first number:10\n",
      "second number:0\n",
      "(<class 'ZeroDivisionError'>, ZeroDivisionError('division by zero'), <traceback object at 0x00000203E3A10A00>)\n",
      "first number:10\n",
      "second number:20\n",
      "div: 0.5\n"
     ]
    }
   ],
   "source": [
    "import sys\n",
    "while True:\n",
    "    try:\n",
    "        a=int(input(\"first number:\"))\n",
    "        b=int(input(\"second number:\"))\n",
    "        c=a/b\n",
    "        print(\"div:\", c)\n",
    "        break\n",
    "    except:\n",
    "        print(sys.exc_info())"
   ]
  },
  {
   "cell_type": "code",
   "execution_count": 7,
   "id": "08e0057f",
   "metadata": {},
   "outputs": [],
   "source": [
    "a,b,c = (1,2,3)"
   ]
  },
  {
   "cell_type": "code",
   "execution_count": 8,
   "id": "d93b2b80",
   "metadata": {},
   "outputs": [
    {
     "data": {
      "text/plain": [
       "1"
      ]
     },
     "execution_count": 8,
     "metadata": {},
     "output_type": "execute_result"
    }
   ],
   "source": [
    "a\n"
   ]
  },
  {
   "cell_type": "code",
   "execution_count": 9,
   "id": "435bba74",
   "metadata": {},
   "outputs": [
    {
     "data": {
      "text/plain": [
       "2"
      ]
     },
     "execution_count": 9,
     "metadata": {},
     "output_type": "execute_result"
    }
   ],
   "source": [
    "b"
   ]
  },
  {
   "cell_type": "code",
   "execution_count": 10,
   "id": "226e6933",
   "metadata": {},
   "outputs": [
    {
     "data": {
      "text/plain": [
       "3"
      ]
     },
     "execution_count": 10,
     "metadata": {},
     "output_type": "execute_result"
    }
   ],
   "source": [
    "c"
   ]
  },
  {
   "cell_type": "code",
   "execution_count": 11,
   "id": "01a79ef3",
   "metadata": {},
   "outputs": [
    {
     "name": "stdout",
     "output_type": "stream",
     "text": [
      "first number:10\n",
      "second number:0\n",
      "exception <class 'ZeroDivisionError'>\n",
      "exception message 2  division by zero\n",
      "line number <traceback object at 0x00000203E4A0EBC0>\n",
      "first number:10\n",
      "second number:20\n",
      "div: 0.5\n"
     ]
    }
   ],
   "source": [
    "import sys\n",
    "while True:\n",
    "    try:\n",
    "        a=int(input(\"first number:\"))\n",
    "        b=int(input(\"second number:\"))\n",
    "        c=a/b\n",
    "        print(\"div:\", c)\n",
    "        break\n",
    "    except:\n",
    "        a,b,c=sys.exc_info()\n",
    "        print(\"exception\",a)\n",
    "        print(\"exception message 2 \",b)\n",
    "        print(\"line number\",c)"
   ]
  },
  {
   "cell_type": "markdown",
   "id": "b8ca2075",
   "metadata": {},
   "source": [
    "# To check all detail with line no"
   ]
  },
  {
   "cell_type": "code",
   "execution_count": 12,
   "id": "a8221ef8",
   "metadata": {},
   "outputs": [
    {
     "name": "stdout",
     "output_type": "stream",
     "text": [
      "first number:10\n",
      "second number:0\n",
      "exception <class 'ZeroDivisionError'>\n",
      "exception message 2  division by zero\n",
      "line number 6\n",
      "first number:10\n",
      "second number:20\n",
      "div: 0.5\n"
     ]
    }
   ],
   "source": [
    "import sys\n",
    "while True:\n",
    "    try:\n",
    "        a=int(input(\"first number:\"))\n",
    "        b=int(input(\"second number:\"))\n",
    "        c=a/b\n",
    "        print(\"div:\", c)\n",
    "        break\n",
    "    except:\n",
    "        a,b,c=sys.exc_info()\n",
    "        print(\"exception\",a)\n",
    "        print(\"exception message 2 \",b)\n",
    "        print(\"line number\",c.tb_lineno)"
   ]
  },
  {
   "cell_type": "markdown",
   "id": "36509168",
   "metadata": {},
   "source": [
    "# Traceback - description bout my exception"
   ]
  },
  {
   "cell_type": "code",
   "execution_count": 14,
   "id": "2cfce94d",
   "metadata": {},
   "outputs": [
    {
     "name": "stdout",
     "output_type": "stream",
     "text": [
      "first number:10\n",
      "second number:0\n",
      "Traceback (most recent call last):\n",
      "  File \"C:\\Users\\KRATI SHARMA\\AppData\\Local\\Temp\\ipykernel_11836\\727174570.py\", line 6, in <cell line: 3>\n",
      "    c=a/b\n",
      "ZeroDivisionError: division by zero\n",
      "\n",
      "first number:10\n",
      "second number:20\n",
      "div: 0.5\n"
     ]
    }
   ],
   "source": [
    "import traceback\n",
    "while True:\n",
    "    try:\n",
    "        a=int(input(\"first number:\"))\n",
    "        b=int(input(\"second number:\"))\n",
    "        c=a/b\n",
    "        print(\"div:\", c)\n",
    "        break\n",
    "    except:\n",
    "        print(traceback.format_exc())"
   ]
  },
  {
   "cell_type": "code",
   "execution_count": 1,
   "id": "7b31feaa",
   "metadata": {},
   "outputs": [
    {
     "ename": "ZeroDivisionError",
     "evalue": "division by zero",
     "output_type": "error",
     "traceback": [
      "\u001b[1;31m---------------------------------------------------------------------------\u001b[0m",
      "\u001b[1;31mZeroDivisionError\u001b[0m                         Traceback (most recent call last)",
      "Input \u001b[1;32mIn [1]\u001b[0m, in \u001b[0;36m<cell line: 3>\u001b[1;34m()\u001b[0m\n\u001b[0;32m      1\u001b[0m a\u001b[38;5;241m=\u001b[39m\u001b[38;5;241m10\u001b[39m\n\u001b[0;32m      2\u001b[0m b\u001b[38;5;241m=\u001b[39m\u001b[38;5;241m0\u001b[39m\n\u001b[1;32m----> 3\u001b[0m \u001b[43ma\u001b[49m\u001b[38;5;241;43m/\u001b[39;49m\u001b[43mb\u001b[49m\n",
      "\u001b[1;31mZeroDivisionError\u001b[0m: division by zero"
     ]
    }
   ],
   "source": [
    "a=10\n",
    "b=0\n",
    "a/b"
   ]
  },
  {
   "cell_type": "markdown",
   "id": "3d76a306",
   "metadata": {},
   "source": [
    "# Raise exception"
   ]
  },
  {
   "cell_type": "code",
   "execution_count": null,
   "id": "edba3de0",
   "metadata": {},
   "outputs": [],
   "source": [
    "while True:\n",
    "    try:\n",
    "        a=int(input(\"first number:\"))\n",
    "        b=int(input(\"second number:\"))\n",
    "        c=a/b\n",
    "        print(c)\n",
    "        "
   ]
  },
  {
   "cell_type": "code",
   "execution_count": 17,
   "id": "9f51ba60",
   "metadata": {},
   "outputs": [
    {
     "name": "stdout",
     "output_type": "stream",
     "text": [
      "first number:1223\n",
      "second number:987\n",
      "div : 1.2391084093211753\n"
     ]
    }
   ],
   "source": [
    "while True:\n",
    "    try:\n",
    "        a=int(input(\"first number:\"))\n",
    "        b=int(input(\"second number:\"))\n",
    "        if a<0 or b<0:\n",
    "            raise Exception(\"negative no not allowed\")\n",
    "        c=a/b\n",
    "        print(\"div :\",c)\n",
    "        break\n",
    "    except ValueError:\n",
    "        print(\"enter int only\")\n",
    "    except ZeroDivisionError:\n",
    "        print(\"enter non zero denominator\")\n",
    "    except Exception as e:\n",
    "        print(e)"
   ]
  },
  {
   "cell_type": "markdown",
   "id": "f4ec7154",
   "metadata": {},
   "source": [
    "# At custom Line"
   ]
  },
  {
   "cell_type": "code",
   "execution_count": null,
   "id": "097b305e",
   "metadata": {},
   "outputs": [],
   "source": [
    "#custom exception"
   ]
  },
  {
   "cell_type": "code",
   "execution_count": 1,
   "id": "3a5eaf08",
   "metadata": {},
   "outputs": [
    {
     "name": "stdout",
     "output_type": "stream",
     "text": [
      "first number:10\n",
      "second number:-20\n"
     ]
    },
    {
     "ename": "NameError",
     "evalue": "name 'NegativeNumberException' is not defined",
     "output_type": "error",
     "traceback": [
      "\u001b[1;31m---------------------------------------------------------------------------\u001b[0m",
      "\u001b[1;31mNameError\u001b[0m                                 Traceback (most recent call last)",
      "Input \u001b[1;32mIn [1]\u001b[0m, in \u001b[0;36m<cell line: 2>\u001b[1;34m()\u001b[0m\n\u001b[0;32m      5\u001b[0m \u001b[38;5;28;01mif\u001b[39;00m a\u001b[38;5;241m<\u001b[39m\u001b[38;5;241m0\u001b[39m \u001b[38;5;129;01mor\u001b[39;00m b\u001b[38;5;241m<\u001b[39m\u001b[38;5;241m0\u001b[39m:\n\u001b[1;32m----> 6\u001b[0m     \u001b[38;5;28;01mraise\u001b[39;00m \u001b[43mNegativeNumberException\u001b[49m(\u001b[38;5;124m\"\u001b[39m\u001b[38;5;124mnegative no not allowed\u001b[39m\u001b[38;5;124m\"\u001b[39m)\n\u001b[0;32m      7\u001b[0m c\u001b[38;5;241m=\u001b[39ma\u001b[38;5;241m/\u001b[39mb\n",
      "\u001b[1;31mNameError\u001b[0m: name 'NegativeNumberException' is not defined",
      "\nDuring handling of the above exception, another exception occurred:\n",
      "\u001b[1;31mNameError\u001b[0m                                 Traceback (most recent call last)",
      "Input \u001b[1;32mIn [1]\u001b[0m, in \u001b[0;36m<cell line: 2>\u001b[1;34m()\u001b[0m\n\u001b[0;32m     12\u001b[0m \u001b[38;5;28;01mexcept\u001b[39;00m \u001b[38;5;167;01mZeroDivisionError\u001b[39;00m:\n\u001b[0;32m     13\u001b[0m     \u001b[38;5;28mprint\u001b[39m(\u001b[38;5;124m\"\u001b[39m\u001b[38;5;124menter non zero denominator\u001b[39m\u001b[38;5;124m\"\u001b[39m)\n\u001b[1;32m---> 14\u001b[0m \u001b[38;5;28;01mexcept\u001b[39;00m \u001b[43mNegativeNumberException\u001b[49m \u001b[38;5;28;01mas\u001b[39;00m e:\n\u001b[0;32m     15\u001b[0m     \u001b[38;5;28mprint\u001b[39m(e)\n",
      "\u001b[1;31mNameError\u001b[0m: name 'NegativeNumberException' is not defined"
     ]
    }
   ],
   "source": [
    "while True:\n",
    "    try:\n",
    "        a=int(input(\"first number:\"))\n",
    "        b=int(input(\"second number:\"))\n",
    "        if a<0 or b<0:\n",
    "            raise NegativeNumberException(\"negative no not allowed\")\n",
    "        c=a/b\n",
    "        print(\"div :\",c)\n",
    "        break\n",
    "    except ValueError:\n",
    "        print(\"enter int only\")\n",
    "    except ZeroDivisionError:\n",
    "        print(\"enter non zero denominator\")\n",
    "    except NegativeNumberException as e:\n",
    "        print(e)"
   ]
  },
  {
   "cell_type": "markdown",
   "id": "f27ee7b6",
   "metadata": {},
   "source": [
    "# In exception class in python already they have defined and we are calling this class."
   ]
  },
  {
   "cell_type": "code",
   "execution_count": null,
   "id": "fe1b4b87",
   "metadata": {},
   "outputs": [],
   "source": [
    "class NegativeNumberException (Exception):\n",
    "    pass"
   ]
  },
  {
   "cell_type": "code",
   "execution_count": null,
   "id": "a1e7aab6",
   "metadata": {},
   "outputs": [],
   "source": [
    "#class NegativeNumberException (Exception):\n",
    "#pass\n",
    "while True:\n",
    "    try:\n",
    "        a=int(input(\"first number:\"))\n",
    "        b=int(input(\"second number:\"))\n",
    "        if a<0 or b<0:\n",
    "            raise NegativeNumberException(\"negative no not allowed\")\n",
    "        c=a/b\n",
    "        print(\"div :\",c)\n",
    "        break\n",
    "    except ValueError:\n",
    "        print(\"enter int only\")\n",
    "    except ZeroDivisionError:\n",
    "        print(\"enter non zero denominator\")\n",
    "    except NegativeNumberException as e:\n",
    "        print(e)"
   ]
  },
  {
   "cell_type": "markdown",
   "id": "936ea014",
   "metadata": {},
   "source": [
    "# Try:, Except:, Finally:\n",
    "        "
   ]
  },
  {
   "cell_type": "markdown",
   "id": "3dfd6fd0",
   "metadata": {},
   "source": [
    "# Final Block"
   ]
  },
  {
   "cell_type": "code",
   "execution_count": 1,
   "id": "ab079155",
   "metadata": {},
   "outputs": [
    {
     "name": "stdout",
     "output_type": "stream",
     "text": [
      "first number:10\n",
      "second number:0\n",
      "dont use zero in denominator\n",
      "hello\n",
      "python\n"
     ]
    }
   ],
   "source": [
    "try:\n",
    "        a=int(input(\"first number:\"))\n",
    "        b=int(input(\"second number:\"))\n",
    "        c=a/b\n",
    "        print(c)\n",
    "except:\n",
    "        print(\"dont use zero in denominator\")\n",
    "        \n",
    "finally:\n",
    "        print(\"hello\")\n",
    "        print(\"python\")"
   ]
  },
  {
   "cell_type": "raw",
   "id": "f2decc3a",
   "metadata": {},
   "source": [
    "try:\n",
    "except:\n",
    "else:\n",
    "            "
   ]
  },
  {
   "cell_type": "code",
   "execution_count": 1,
   "id": "76480054",
   "metadata": {},
   "outputs": [
    {
     "name": "stdout",
     "output_type": "stream",
     "text": [
      "first number:10\n",
      "second number:0\n",
      "dont use zero in denominator\n"
     ]
    }
   ],
   "source": [
    "try:\n",
    "        a=int(input(\"first number:\"))\n",
    "        b=int(input(\"second number:\"))\n",
    "        c=a/b\n",
    "        print(c)\n",
    "except:\n",
    "        print(\"dont use zero in denominator\")\n",
    "else:\n",
    "        print(\"python\")"
   ]
  },
  {
   "cell_type": "code",
   "execution_count": 2,
   "id": "6cd4781f",
   "metadata": {},
   "outputs": [
    {
     "name": "stdout",
     "output_type": "stream",
     "text": [
      "first number:10\n",
      "second number:0\n",
      "dont use zero in denominator\n",
      "python\n"
     ]
    }
   ],
   "source": [
    "try:\n",
    "        a=int(input(\"first number:\"))\n",
    "        b=int(input(\"second number:\"))\n",
    "        c=a/b\n",
    "        print(c)\n",
    "except:\n",
    "        print(\"dont use zero in denominator\")\n",
    "finally:\n",
    "        print(\"python\")"
   ]
  }
 ],
 "metadata": {
  "kernelspec": {
   "display_name": "Python 3 (ipykernel)",
   "language": "python",
   "name": "python3"
  },
  "language_info": {
   "codemirror_mode": {
    "name": "ipython",
    "version": 3
   },
   "file_extension": ".py",
   "mimetype": "text/x-python",
   "name": "python",
   "nbconvert_exporter": "python",
   "pygments_lexer": "ipython3",
   "version": "3.9.12"
  }
 },
 "nbformat": 4,
 "nbformat_minor": 5
}
